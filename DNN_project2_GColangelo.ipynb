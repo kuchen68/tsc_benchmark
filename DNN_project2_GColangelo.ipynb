{
 "cells": [
  {
   "cell_type": "markdown",
   "id": "796244d8-0203-4c08-bc31-8afd764a1fa8",
   "metadata": {
    "tags": []
   },
   "source": [
    "# Time series classification on Starlight curves dataset"
   ]
  },
  {
   "cell_type": "markdown",
   "id": "17147291-393a-4f76-910f-9f60deabc08a",
   "metadata": {},
   "source": [
    "Goal of this project is to apply the most common time series classification (TSC) methods on a publicly available dataset out of Astronomy studies, namely the Starlight curves dataset, which can be downloaded <a href=\"http://www.timeseriesclassification.com/description.php?Dataset=StarlightCurves\" target=\"_blank\">here</a>.\n",
    "\n",
    "The dataset consists of N = 9236 starlight curves. The brightness of celestial objects was recorded over time in a set of n = 1024 samples. There are three types of stars: Eclipsed Binaries (purple), Cepheids (blue) and RR Lyrae Variables (green). Our goal is to classify stars based on their brightness variation over time.\n",
    "\n",
    "We used the standard train/test split but we used 10% of the training set for validation purposes. So to summarize following were the sizes of the data subsets for our experiments:\n",
    "\n",
    "| Subset | Size |\n",
    "| :--- | ---: |\n",
    "| Train | 900 |\n",
    "| Validation | 100 |\n",
    "| Test | 8236 |\n",
    "\n",
    "\n",
    "The model architectures we developed and tested were based on state-of-the-art TSC methods described in [1] and [2]. In particular, we measured classification performance of 4 different models:\n",
    "\n",
    "1. Multi-layer Perceptron (MLP) - based on the architecture described in [2]\n",
    "2. Single-layer LSTM (RNN and GRU classes are also available)\n",
    "3. CNN - based on the architecture described in [1]\n",
    "4. ResNet - based on the architecture described in [2]"
   ]
  },
  {
   "cell_type": "markdown",
   "id": "519ad174",
   "metadata": {},
   "source": [
    "***\n",
    "\n",
    "Necessary imports"
   ]
  },
  {
   "cell_type": "code",
   "execution_count": 3,
   "id": "94349918",
   "metadata": {},
   "outputs": [
    {
     "name": "stdout",
     "output_type": "stream",
     "text": [
      "device:cpu\n",
      "\n",
      "python:\n",
      "3.9.7 (default, Sep 16 2021, 16:59:28) [MSC v.1916 64 bit (AMD64)]\n",
      "\n",
      "torch==1.11.0+cpu\n",
      "numpy==1.21.5\n",
      "tqdm==4.64.0\n",
      "matplotlib==3.5.1\n"
     ]
    }
   ],
   "source": [
    "import os\n",
    "import sys\n",
    "import torch\n",
    "import torch.nn as nn\n",
    "import torch.nn.functional as F\n",
    "import torch.optim as optim\n",
    "from torch.utils.data import TensorDataset, DataLoader\n",
    "import numpy as np\n",
    "import tqdm as tqdm_ \n",
    "from tqdm.notebook import tqdm # Overkill progress bars\n",
    "from torchsummary import summary\n",
    "\n",
    "from functools import partial\n",
    "\n",
    "from ray import tune\n",
    "from ray.tune import CLIReporter\n",
    "from ray.tune.schedulers import ASHAScheduler\n",
    "\n",
    "import pandas as pd\n",
    "import matplotlib\n",
    "import matplotlib.pyplot as plt\n",
    "import matplotlib.ticker as ticker\n",
    "import random\n",
    "from collections import Counter\n",
    "\n",
    "from sklearn.model_selection import train_test_split\n",
    "from sklearn.metrics import classification_report\n",
    "from sklearn.metrics import confusion_matrix\n",
    "\n",
    "from datetime import datetime\n",
    "\n",
    "if torch.cuda.is_available():\n",
    "    device = torch.device(\"cuda\")\n",
    "else:\n",
    "    device = torch.device(\"cpu\")\n",
    "\n",
    "print(\"device:{}\\n\".format(device))\n",
    "print(\"python:\\n{}\\n\".format(sys.version))\n",
    "print(\"torch=={}\".format(torch.__version__))\n",
    "print(\"numpy=={}\".format(np.__version__))\n",
    "\n",
    "print(\"tqdm=={}\".format(tqdm_.__version__))\n",
    "print(\"matplotlib=={}\".format(matplotlib.__version__))"
   ]
  },
  {
   "cell_type": "markdown",
   "id": "840196c5",
   "metadata": {},
   "source": [
    "## Data ingestion and preparation"
   ]
  },
  {
   "cell_type": "code",
   "execution_count": 4,
   "id": "faca44fa",
   "metadata": {},
   "outputs": [],
   "source": [
    "df_train = pd.read_csv('StarLightCurves/StarLightCurves_TRAIN.txt', header=None,delim_whitespace=True)\n",
    "df_test = pd.read_csv('StarLightCurves/StarLightCurves_TEST.txt', header=None, delim_whitespace=True)"
   ]
  },
  {
   "cell_type": "code",
   "execution_count": 5,
   "id": "b4d6310d",
   "metadata": {},
   "outputs": [
    {
     "data": {
      "text/html": [
       "<div>\n",
       "<style scoped>\n",
       "    .dataframe tbody tr th:only-of-type {\n",
       "        vertical-align: middle;\n",
       "    }\n",
       "\n",
       "    .dataframe tbody tr th {\n",
       "        vertical-align: top;\n",
       "    }\n",
       "\n",
       "    .dataframe thead th {\n",
       "        text-align: right;\n",
       "    }\n",
       "</style>\n",
       "<table border=\"1\" class=\"dataframe\">\n",
       "  <thead>\n",
       "    <tr style=\"text-align: right;\">\n",
       "      <th></th>\n",
       "      <th>0</th>\n",
       "      <th>1</th>\n",
       "      <th>2</th>\n",
       "      <th>3</th>\n",
       "      <th>4</th>\n",
       "      <th>5</th>\n",
       "      <th>6</th>\n",
       "      <th>7</th>\n",
       "      <th>8</th>\n",
       "      <th>9</th>\n",
       "      <th>...</th>\n",
       "      <th>1015</th>\n",
       "      <th>1016</th>\n",
       "      <th>1017</th>\n",
       "      <th>1018</th>\n",
       "      <th>1019</th>\n",
       "      <th>1020</th>\n",
       "      <th>1021</th>\n",
       "      <th>1022</th>\n",
       "      <th>1023</th>\n",
       "      <th>1024</th>\n",
       "    </tr>\n",
       "  </thead>\n",
       "  <tbody>\n",
       "    <tr>\n",
       "      <th>0</th>\n",
       "      <td>3.0</td>\n",
       "      <td>0.537303</td>\n",
       "      <td>0.531103</td>\n",
       "      <td>0.528503</td>\n",
       "      <td>0.529403</td>\n",
       "      <td>0.533603</td>\n",
       "      <td>0.540903</td>\n",
       "      <td>0.551103</td>\n",
       "      <td>0.564003</td>\n",
       "      <td>0.579603</td>\n",
       "      <td>...</td>\n",
       "      <td>0.547103</td>\n",
       "      <td>0.546903</td>\n",
       "      <td>0.545903</td>\n",
       "      <td>0.543903</td>\n",
       "      <td>0.541003</td>\n",
       "      <td>0.537203</td>\n",
       "      <td>0.532303</td>\n",
       "      <td>0.526403</td>\n",
       "      <td>0.519503</td>\n",
       "      <td>0.511403</td>\n",
       "    </tr>\n",
       "    <tr>\n",
       "      <th>1</th>\n",
       "      <td>3.0</td>\n",
       "      <td>0.588398</td>\n",
       "      <td>0.593898</td>\n",
       "      <td>0.599098</td>\n",
       "      <td>0.604098</td>\n",
       "      <td>0.608798</td>\n",
       "      <td>0.613397</td>\n",
       "      <td>0.617797</td>\n",
       "      <td>0.622097</td>\n",
       "      <td>0.626097</td>\n",
       "      <td>...</td>\n",
       "      <td>0.228799</td>\n",
       "      <td>0.237399</td>\n",
       "      <td>0.246499</td>\n",
       "      <td>0.256199</td>\n",
       "      <td>0.266499</td>\n",
       "      <td>0.277399</td>\n",
       "      <td>0.288799</td>\n",
       "      <td>0.300899</td>\n",
       "      <td>0.313599</td>\n",
       "      <td>0.326899</td>\n",
       "    </tr>\n",
       "    <tr>\n",
       "      <th>2</th>\n",
       "      <td>1.0</td>\n",
       "      <td>-0.049900</td>\n",
       "      <td>-0.041500</td>\n",
       "      <td>-0.033400</td>\n",
       "      <td>-0.025600</td>\n",
       "      <td>-0.018100</td>\n",
       "      <td>-0.010800</td>\n",
       "      <td>-0.003800</td>\n",
       "      <td>0.003000</td>\n",
       "      <td>0.009600</td>\n",
       "      <td>...</td>\n",
       "      <td>-0.185601</td>\n",
       "      <td>-0.173801</td>\n",
       "      <td>-0.161601</td>\n",
       "      <td>-0.149201</td>\n",
       "      <td>-0.136401</td>\n",
       "      <td>-0.123201</td>\n",
       "      <td>-0.109701</td>\n",
       "      <td>-0.095901</td>\n",
       "      <td>-0.081701</td>\n",
       "      <td>-0.067100</td>\n",
       "    </tr>\n",
       "    <tr>\n",
       "      <th>3</th>\n",
       "      <td>3.0</td>\n",
       "      <td>1.337005</td>\n",
       "      <td>1.319805</td>\n",
       "      <td>1.302905</td>\n",
       "      <td>1.286305</td>\n",
       "      <td>1.270005</td>\n",
       "      <td>1.254005</td>\n",
       "      <td>1.238304</td>\n",
       "      <td>1.223005</td>\n",
       "      <td>1.208104</td>\n",
       "      <td>...</td>\n",
       "      <td>1.278905</td>\n",
       "      <td>1.288905</td>\n",
       "      <td>1.298505</td>\n",
       "      <td>1.307705</td>\n",
       "      <td>1.316505</td>\n",
       "      <td>1.324905</td>\n",
       "      <td>1.332805</td>\n",
       "      <td>1.340205</td>\n",
       "      <td>1.347005</td>\n",
       "      <td>1.353205</td>\n",
       "    </tr>\n",
       "    <tr>\n",
       "      <th>4</th>\n",
       "      <td>3.0</td>\n",
       "      <td>0.769801</td>\n",
       "      <td>0.775301</td>\n",
       "      <td>0.780401</td>\n",
       "      <td>0.785101</td>\n",
       "      <td>0.789401</td>\n",
       "      <td>0.793301</td>\n",
       "      <td>0.796801</td>\n",
       "      <td>0.799901</td>\n",
       "      <td>0.802601</td>\n",
       "      <td>...</td>\n",
       "      <td>0.740801</td>\n",
       "      <td>0.742401</td>\n",
       "      <td>0.744501</td>\n",
       "      <td>0.747301</td>\n",
       "      <td>0.750701</td>\n",
       "      <td>0.754801</td>\n",
       "      <td>0.759501</td>\n",
       "      <td>0.765001</td>\n",
       "      <td>0.771301</td>\n",
       "      <td>0.778401</td>\n",
       "    </tr>\n",
       "    <tr>\n",
       "      <th>...</th>\n",
       "      <td>...</td>\n",
       "      <td>...</td>\n",
       "      <td>...</td>\n",
       "      <td>...</td>\n",
       "      <td>...</td>\n",
       "      <td>...</td>\n",
       "      <td>...</td>\n",
       "      <td>...</td>\n",
       "      <td>...</td>\n",
       "      <td>...</td>\n",
       "      <td>...</td>\n",
       "      <td>...</td>\n",
       "      <td>...</td>\n",
       "      <td>...</td>\n",
       "      <td>...</td>\n",
       "      <td>...</td>\n",
       "      <td>...</td>\n",
       "      <td>...</td>\n",
       "      <td>...</td>\n",
       "      <td>...</td>\n",
       "      <td>...</td>\n",
       "    </tr>\n",
       "    <tr>\n",
       "      <th>995</th>\n",
       "      <td>2.0</td>\n",
       "      <td>-0.751000</td>\n",
       "      <td>-0.749100</td>\n",
       "      <td>-0.747100</td>\n",
       "      <td>-0.745200</td>\n",
       "      <td>-0.743300</td>\n",
       "      <td>-0.741500</td>\n",
       "      <td>-0.739600</td>\n",
       "      <td>-0.737800</td>\n",
       "      <td>-0.735900</td>\n",
       "      <td>...</td>\n",
       "      <td>-0.770900</td>\n",
       "      <td>-0.768600</td>\n",
       "      <td>-0.766100</td>\n",
       "      <td>-0.763500</td>\n",
       "      <td>-0.760700</td>\n",
       "      <td>-0.757800</td>\n",
       "      <td>-0.754700</td>\n",
       "      <td>-0.751500</td>\n",
       "      <td>-0.748100</td>\n",
       "      <td>-0.744600</td>\n",
       "    </tr>\n",
       "    <tr>\n",
       "      <th>996</th>\n",
       "      <td>3.0</td>\n",
       "      <td>0.867600</td>\n",
       "      <td>0.860300</td>\n",
       "      <td>0.853300</td>\n",
       "      <td>0.846500</td>\n",
       "      <td>0.840100</td>\n",
       "      <td>0.834000</td>\n",
       "      <td>0.828100</td>\n",
       "      <td>0.822600</td>\n",
       "      <td>0.817400</td>\n",
       "      <td>...</td>\n",
       "      <td>0.845200</td>\n",
       "      <td>0.847500</td>\n",
       "      <td>0.849800</td>\n",
       "      <td>0.852100</td>\n",
       "      <td>0.854400</td>\n",
       "      <td>0.856800</td>\n",
       "      <td>0.859200</td>\n",
       "      <td>0.861700</td>\n",
       "      <td>0.864100</td>\n",
       "      <td>0.866600</td>\n",
       "    </tr>\n",
       "    <tr>\n",
       "      <th>997</th>\n",
       "      <td>1.0</td>\n",
       "      <td>0.087398</td>\n",
       "      <td>0.097398</td>\n",
       "      <td>0.107698</td>\n",
       "      <td>0.118298</td>\n",
       "      <td>0.129298</td>\n",
       "      <td>0.140398</td>\n",
       "      <td>0.151898</td>\n",
       "      <td>0.163498</td>\n",
       "      <td>0.175398</td>\n",
       "      <td>...</td>\n",
       "      <td>0.002598</td>\n",
       "      <td>0.012198</td>\n",
       "      <td>0.022098</td>\n",
       "      <td>0.032398</td>\n",
       "      <td>0.042898</td>\n",
       "      <td>0.053798</td>\n",
       "      <td>0.065098</td>\n",
       "      <td>0.076698</td>\n",
       "      <td>0.088698</td>\n",
       "      <td>0.101098</td>\n",
       "    </tr>\n",
       "    <tr>\n",
       "      <th>998</th>\n",
       "      <td>3.0</td>\n",
       "      <td>0.664799</td>\n",
       "      <td>0.654799</td>\n",
       "      <td>0.646099</td>\n",
       "      <td>0.638599</td>\n",
       "      <td>0.632299</td>\n",
       "      <td>0.627199</td>\n",
       "      <td>0.623099</td>\n",
       "      <td>0.619999</td>\n",
       "      <td>0.617899</td>\n",
       "      <td>...</td>\n",
       "      <td>0.699199</td>\n",
       "      <td>0.699299</td>\n",
       "      <td>0.698899</td>\n",
       "      <td>0.698099</td>\n",
       "      <td>0.696899</td>\n",
       "      <td>0.695299</td>\n",
       "      <td>0.693299</td>\n",
       "      <td>0.690799</td>\n",
       "      <td>0.687799</td>\n",
       "      <td>0.684399</td>\n",
       "    </tr>\n",
       "    <tr>\n",
       "      <th>999</th>\n",
       "      <td>3.0</td>\n",
       "      <td>0.563602</td>\n",
       "      <td>0.569502</td>\n",
       "      <td>0.574902</td>\n",
       "      <td>0.579702</td>\n",
       "      <td>0.583902</td>\n",
       "      <td>0.587702</td>\n",
       "      <td>0.591002</td>\n",
       "      <td>0.593802</td>\n",
       "      <td>0.596202</td>\n",
       "      <td>...</td>\n",
       "      <td>0.151901</td>\n",
       "      <td>0.176101</td>\n",
       "      <td>0.203402</td>\n",
       "      <td>0.233902</td>\n",
       "      <td>0.267602</td>\n",
       "      <td>0.304802</td>\n",
       "      <td>0.345602</td>\n",
       "      <td>0.390102</td>\n",
       "      <td>0.438302</td>\n",
       "      <td>0.490602</td>\n",
       "    </tr>\n",
       "  </tbody>\n",
       "</table>\n",
       "<p>1000 rows × 1025 columns</p>\n",
       "</div>"
      ],
      "text/plain": [
       "     0         1         2         3         4         5         6     \\\n",
       "0     3.0  0.537303  0.531103  0.528503  0.529403  0.533603  0.540903   \n",
       "1     3.0  0.588398  0.593898  0.599098  0.604098  0.608798  0.613397   \n",
       "2     1.0 -0.049900 -0.041500 -0.033400 -0.025600 -0.018100 -0.010800   \n",
       "3     3.0  1.337005  1.319805  1.302905  1.286305  1.270005  1.254005   \n",
       "4     3.0  0.769801  0.775301  0.780401  0.785101  0.789401  0.793301   \n",
       "..    ...       ...       ...       ...       ...       ...       ...   \n",
       "995   2.0 -0.751000 -0.749100 -0.747100 -0.745200 -0.743300 -0.741500   \n",
       "996   3.0  0.867600  0.860300  0.853300  0.846500  0.840100  0.834000   \n",
       "997   1.0  0.087398  0.097398  0.107698  0.118298  0.129298  0.140398   \n",
       "998   3.0  0.664799  0.654799  0.646099  0.638599  0.632299  0.627199   \n",
       "999   3.0  0.563602  0.569502  0.574902  0.579702  0.583902  0.587702   \n",
       "\n",
       "         7         8         9     ...      1015      1016      1017  \\\n",
       "0    0.551103  0.564003  0.579603  ...  0.547103  0.546903  0.545903   \n",
       "1    0.617797  0.622097  0.626097  ...  0.228799  0.237399  0.246499   \n",
       "2   -0.003800  0.003000  0.009600  ... -0.185601 -0.173801 -0.161601   \n",
       "3    1.238304  1.223005  1.208104  ...  1.278905  1.288905  1.298505   \n",
       "4    0.796801  0.799901  0.802601  ...  0.740801  0.742401  0.744501   \n",
       "..        ...       ...       ...  ...       ...       ...       ...   \n",
       "995 -0.739600 -0.737800 -0.735900  ... -0.770900 -0.768600 -0.766100   \n",
       "996  0.828100  0.822600  0.817400  ...  0.845200  0.847500  0.849800   \n",
       "997  0.151898  0.163498  0.175398  ...  0.002598  0.012198  0.022098   \n",
       "998  0.623099  0.619999  0.617899  ...  0.699199  0.699299  0.698899   \n",
       "999  0.591002  0.593802  0.596202  ...  0.151901  0.176101  0.203402   \n",
       "\n",
       "         1018      1019      1020      1021      1022      1023      1024  \n",
       "0    0.543903  0.541003  0.537203  0.532303  0.526403  0.519503  0.511403  \n",
       "1    0.256199  0.266499  0.277399  0.288799  0.300899  0.313599  0.326899  \n",
       "2   -0.149201 -0.136401 -0.123201 -0.109701 -0.095901 -0.081701 -0.067100  \n",
       "3    1.307705  1.316505  1.324905  1.332805  1.340205  1.347005  1.353205  \n",
       "4    0.747301  0.750701  0.754801  0.759501  0.765001  0.771301  0.778401  \n",
       "..        ...       ...       ...       ...       ...       ...       ...  \n",
       "995 -0.763500 -0.760700 -0.757800 -0.754700 -0.751500 -0.748100 -0.744600  \n",
       "996  0.852100  0.854400  0.856800  0.859200  0.861700  0.864100  0.866600  \n",
       "997  0.032398  0.042898  0.053798  0.065098  0.076698  0.088698  0.101098  \n",
       "998  0.698099  0.696899  0.695299  0.693299  0.690799  0.687799  0.684399  \n",
       "999  0.233902  0.267602  0.304802  0.345602  0.390102  0.438302  0.490602  \n",
       "\n",
       "[1000 rows x 1025 columns]"
      ]
     },
     "execution_count": 5,
     "metadata": {},
     "output_type": "execute_result"
    }
   ],
   "source": [
    "df_train"
   ]
  },
  {
   "cell_type": "markdown",
   "id": "e65eb6ce",
   "metadata": {},
   "source": [
    "We store the sequence length that is going to be used for data preparation"
   ]
  },
  {
   "cell_type": "code",
   "execution_count": 6,
   "id": "78477ba6",
   "metadata": {},
   "outputs": [
    {
     "data": {
      "text/plain": [
       "1024"
      ]
     },
     "execution_count": 6,
     "metadata": {},
     "output_type": "execute_result"
    }
   ],
   "source": [
    "seq_length=df_train.iloc[:,1:].shape[1]\n",
    "seq_length"
   ]
  },
  {
   "cell_type": "markdown",
   "id": "ec520b3a",
   "metadata": {},
   "source": [
    "We prepare the set according to the shape train/test size, sequence length (24) and feature size i.e. 1 for univariate TS. This is the format required by RNN models. For the other models we need then to switch the format to:"
   ]
  },
  {
   "cell_type": "code",
   "execution_count": 7,
   "id": "f8f01d35",
   "metadata": {},
   "outputs": [],
   "source": [
    "X_train = df_train.iloc[:, 1:].values.reshape(-1,seq_length,1)\n",
    "X_test = df_test.iloc[:, 1:].values.reshape(-1,seq_length,1)"
   ]
  },
  {
   "cell_type": "markdown",
   "id": "33dc5a48",
   "metadata": {},
   "source": [
    "We modify the labels to be 0, 1 and 2 instead of 1, 2 and 3 because our CrossEntropyLoss criterion requires classes indices to be in the range [0, C) where C is the number of classes."
   ]
  },
  {
   "cell_type": "code",
   "execution_count": 8,
   "id": "1ba5b1d7",
   "metadata": {},
   "outputs": [],
   "source": [
    "y_train = df_train.iloc[:, 0].values-1\n",
    "y_test = df_test.iloc[:, 0].values-1"
   ]
  },
  {
   "cell_type": "code",
   "execution_count": 9,
   "id": "eaa49c8f",
   "metadata": {},
   "outputs": [
    {
     "data": {
      "text/plain": [
       "array([1., 2., 2., ..., 0., 1., 2.])"
      ]
     },
     "execution_count": 9,
     "metadata": {},
     "output_type": "execute_result"
    }
   ],
   "source": [
    "y_test"
   ]
  },
  {
   "cell_type": "markdown",
   "id": "99498c44",
   "metadata": {},
   "source": [
    "We split the training set so that 10% of the data are dedicated to validation."
   ]
  },
  {
   "cell_type": "code",
   "execution_count": 10,
   "id": "f14562b4",
   "metadata": {},
   "outputs": [],
   "source": [
    "idx = np.arange(len(X_train))\n",
    "train_idx, val_idx = train_test_split(idx, test_size=0.1)"
   ]
  },
  {
   "cell_type": "code",
   "execution_count": 11,
   "id": "2488e6f6",
   "metadata": {},
   "outputs": [],
   "source": [
    "train_ds = TensorDataset(torch.tensor(X_train[train_idx]).float(),torch.tensor(y_train[train_idx]).long())\n",
    "val_ds = TensorDataset(torch.tensor(X_train[val_idx]).float(),torch.tensor(y_train[val_idx]).long())\n",
    "test_ds = TensorDataset(torch.tensor(X_test).float(),torch.tensor(y_test).long())"
   ]
  },
  {
   "cell_type": "code",
   "execution_count": 12,
   "id": "6c535668",
   "metadata": {},
   "outputs": [
    {
     "data": {
      "text/plain": [
       "array([0.53730293, 0.53110294, 0.52850294, ..., 0.52640294, 0.51950294,\n",
       "       0.51140294])"
      ]
     },
     "execution_count": 12,
     "metadata": {},
     "output_type": "execute_result"
    }
   ],
   "source": [
    "X_train[:,:,0][0]"
   ]
  },
  {
   "cell_type": "code",
   "execution_count": 13,
   "id": "6b8aac63",
   "metadata": {},
   "outputs": [
    {
     "data": {
      "text/plain": [
       "(1000, 1024, 1)"
      ]
     },
     "execution_count": 13,
     "metadata": {},
     "output_type": "execute_result"
    }
   ],
   "source": [
    "X_train.shape"
   ]
  },
  {
   "cell_type": "markdown",
   "id": "0ec21dfb",
   "metadata": {},
   "source": [
    "We choose a **batch size** equal to 50. Given the **number of epochs** that we later set to 100, it will take 18 iterations to pass the entire training dataset made of 900 sequences to pass through the models. \n",
    "\n",
    "We could adapt these parameters depending on how the losses are changing as a function of the epochs. If we see that training is  completed, while the losses are still going down, this is probably an indication of underfitting and we could increase the number of epochs. On the contrary, if the losses are stabilizing or even increasing, then we are most likely overfitting.\n",
    "\n",
    "We will see later how our traning process is behaving using these initial values for these parameters.\n",
    "\n",
    "Actually a necessary step that we have not covered in this notebook is cross-validation. Optimal values of batch size and learning rate should typically be found in a cross-validation process. "
   ]
  },
  {
   "cell_type": "code",
   "execution_count": 14,
   "id": "49bade69",
   "metadata": {},
   "outputs": [],
   "source": [
    "batch_size=50"
   ]
  },
  {
   "cell_type": "code",
   "execution_count": 15,
   "id": "706c16ba",
   "metadata": {},
   "outputs": [],
   "source": [
    "train_loader = DataLoader(dataset=train_ds,\n",
    "                          batch_size=batch_size, \n",
    "                          shuffle=False, drop_last = True)\n",
    "\n",
    "val_loader = DataLoader(dataset=val_ds,\n",
    "                          batch_size=batch_size, \n",
    "                          shuffle=False, drop_last = True)\n",
    "\n",
    "test_loader = DataLoader(dataset=test_ds,\n",
    "                          batch_size=batch_size, \n",
    "                          shuffle=False, drop_last = True)"
   ]
  },
  {
   "cell_type": "markdown",
   "id": "34f88365",
   "metadata": {},
   "source": [
    "Plot brightness samples of the three different star types"
   ]
  },
  {
   "cell_type": "code",
   "execution_count": 16,
   "id": "d449cbd8",
   "metadata": {},
   "outputs": [
    {
     "data": {
      "text/plain": [
       "<matplotlib.legend.Legend at 0x2a4c1589dc0>"
      ]
     },
     "execution_count": 16,
     "metadata": {},
     "output_type": "execute_result"
    },
    {
     "data": {
      "image/png": "[encoded data removed]",
      "text/plain": [
       "<Figure size 432x288 with 1 Axes>"
      ]
     },
     "metadata": {
      "needs_background": "light"
     },
     "output_type": "display_data"
    }
   ],
   "source": [
    "for i in range(0,71,35): \n",
    "    plt.plot(X_train[:,:,0][i],label=\"sample={}, target={}\".format(i, y_train[i]))\n",
    "plt.legend()"
   ]
  },
  {
   "cell_type": "markdown",
   "id": "da2567f3",
   "metadata": {},
   "source": [
    "## Models definition"
   ]
  },
  {
   "cell_type": "markdown",
   "id": "509310d6-8791-49ce-8872-b328e7690577",
   "metadata": {},
   "source": [
    "### MLP"
   ]
  },
  {
   "cell_type": "markdown",
   "id": "edda1382",
   "metadata": {},
   "source": [
    "The architecture described in [2] and represented in the figure below is implemented here. Note that eventually we removed the final softmax layer from the code because, when further studying the **CrossEntropyLoss** criterion documentation, we found out that the criterion combines  already a LogSoftMax operation together with NLLLoss. So applying it in the architecture would mean using it twice. In fact, when commenting out the SoftMax layer, performance classification increased significantly."
   ]
  },
  {
   "cell_type": "markdown",
   "id": "eccc08d5",
   "metadata": {},
   "source": [
    "![Image file needs to be placed in the same working directory of the .ipynb](MLP.png)"
   ]
  },
  {
   "cell_type": "code",
   "execution_count": 19,
   "id": "88e0389f",
   "metadata": {},
   "outputs": [],
   "source": [
    "class MLPModel (nn.Module):\n",
    "    def __init__(self, seq_length, hidden_size, n_classes, drop_prob):\n",
    "        super().__init__()\n",
    "        self.input_size = seq_length\n",
    "        self.hidden_size  = hidden_size\n",
    "        self.dropout = nn.Dropout(drop_prob)        \n",
    "        \n",
    "        self.fc1 = torch.nn.Linear(self.input_size, self.hidden_size)\n",
    "        self.relu1 = torch.nn.ReLU()\n",
    "        self.dropout1 = nn.Dropout(drop_prob*2)\n",
    "        \n",
    "        self.fc2 = torch.nn.Linear(self.hidden_size, self.hidden_size)\n",
    "        self.relu2 = torch.nn.ReLU()\n",
    "        self.dropout2 = nn.Dropout(drop_prob*2)\n",
    "        \n",
    "        self.fc3 = torch.nn.Linear(self.hidden_size, n_classes)\n",
    "        self.relu3 = torch.nn.ReLU()\n",
    "        self.dropout3 = nn.Dropout(drop_prob*3)\n",
    "        \n",
    "        #self.softmax = torch.nn.Softmax(dim=0)\n",
    "    \n",
    "    def forward(self, x):\n",
    "        x = x.view(x.shape[0], -1)\n",
    "        x = self.dropout(x)\n",
    "        hidden1 = self.dropout1(self.relu1(self.fc1(x)))\n",
    "        hidden2 = self.dropout2(self.relu2(self.fc2(hidden1)))\n",
    "        output = self.dropout3(self.relu3(self.fc3(hidden2)))\n",
    "        prediction = output\n",
    "        return prediction"
   ]
  },
  {
   "cell_type": "markdown",
   "id": "143405f7-3413-4208-b5ea-6169fdf57956",
   "metadata": {},
   "source": [
    "### RNN, LSTM, GRU"
   ]
  },
  {
   "cell_type": "code",
   "execution_count": 20,
   "id": "836194a3",
   "metadata": {},
   "outputs": [],
   "source": [
    "class RNNModel (nn.Module):\n",
    "    def __init__(self, input_size, hidden_size, n_layers=1, n_classes=3, drop_prob=0): #input_size = number of features that in our case of univariate TS is equal to 1.\n",
    "        super(RNNModel, self).__init__()\n",
    "        self.hidden_size = hidden_size\n",
    "        self.n_layers = n_layers    \n",
    "        self.rnn = nn.RNN(input_size,hidden_size,n_layers, dropout=drop_prob, batch_first=True)\n",
    "        self.fc=nn.Linear(hidden_size, n_classes)\n",
    "        self.softmax = torch.nn.Softmax(dim=0)\n",
    "    \n",
    "    def forward(self, inputs): #Input is a tensor with shape 24x1 in other words seq_length 24 x 1 feature. However I need to add batch_size first.\n",
    "        #Initialization of state = h_0\n",
    "        h_0 = torch.zeros(self.n_layers, inputs.size(0), self.hidden_size, device=device).requires_grad_()\n",
    "        h_t, state = self.rnn(inputs)\n",
    "        output = self.fc(h_t[:,-1,:]) #We take only the last element of the sequence h_t to make a prediction\n",
    "        prediction = self.softmax(output)\n",
    "        return prediction        \n",
    "    "
   ]
  },
  {
   "cell_type": "code",
   "execution_count": 21,
   "id": "e1fbd2af",
   "metadata": {},
   "outputs": [],
   "source": [
    "class LSTMModel (nn.Module):\n",
    "    def __init__(self, input_size, hidden_size, n_layers=1, n_classes=3, drop_prob=0): #input_size = number of features that in our case of univariate TS is equal to 1.\n",
    "        super(LSTMModel, self).__init__()\n",
    "        self.hidden_size = hidden_size\n",
    "        self.n_layers = n_layers    \n",
    "        self.lstm = nn.LSTM(input_size,hidden_size,n_layers, dropout=drop_prob, batch_first=True)\n",
    "        self.fc=nn.Linear(hidden_size, n_classes)\n",
    "        #self.softmax = torch.nn.Softmax(dim=0)\n",
    "        #self.tanh = nn.Tanh()\n",
    "    \n",
    "    def forward(self, inputs): #Input is a tensor with shape 24x1 in other words seq_length 24 x 1 feature. However I need to add batch_size first.\n",
    "        #Initialization of state = h_0, c_0\n",
    "        state = (torch.zeros(self.n_layers, inputs.size(0), self.hidden_size, device=device).requires_grad_(),\n",
    "                torch.zeros(self.n_layers, inputs.size(0), self.hidden_size, device=device).requires_grad_())\n",
    "        h_t, state = self.lstm(inputs, state)\n",
    "        output = self.fc(h_t[:,-1,:]) #We take only the last element of the sequence h_t to make a prediction\n",
    "        #prediction = self.softmax(output)\n",
    "        return output        \n",
    "    "
   ]
  },
  {
   "cell_type": "code",
   "execution_count": 22,
   "id": "76d14984",
   "metadata": {},
   "outputs": [],
   "source": [
    "class GRUModel (nn.Module):\n",
    "    def __init__(self, input_size, hidden_size, n_layers=1, n_classes=3, drop_prob=0): #input_size = number of features that in our case of univariate TS is equal to 1.\n",
    "        super(GRUModel, self).__init__()\n",
    "        self.hidden_size = hidden_size\n",
    "        self.n_layers = n_layers    \n",
    "        self.gru = nn.GRU(input_size,hidden_size,n_layers, dropout=drop_prob, batch_first=True)\n",
    "        self.fc=nn.Linear(hidden_size, n_classes)\n",
    "        self.softmax = torch.nn.Softmax(dim=0)\n",
    "    \n",
    "    def forward(self, inputs): #Input is a tensor with shape 24x1 in other words seq_length 24 x 1 feature. However I need to add batch_size first.\n",
    "        #Initialization of state = h_0\n",
    "        h_0 = torch.zeros(self.n_layers, inputs.size(0), self.hidden_size, device=device)\n",
    "        h_t, state = self.gru(inputs)\n",
    "        output = self.fc(h_t[:,-1,:]) #We take only the last element of the sequence h_t to make a prediction\n",
    "        prediction = self.softmax(output)\n",
    "        return prediction        \n",
    "    "
   ]
  },
  {
   "cell_type": "markdown",
   "id": "c67e8868",
   "metadata": {},
   "source": [
    "### CNN"
   ]
  },
  {
   "cell_type": "markdown",
   "id": "79f813ce",
   "metadata": {},
   "source": [
    "The architecture we select is suggested in [1] and represented in the figure below with the difference that we apply it to our univariate time-series. \n",
    "\n",
    "It consists of two convolutional layers, each followed by a max pooling operation. Data are finally passed through two fully connected linear layers that eventually reduce the connections to the number of classes for the final classification. \n",
    "\n",
    "Important design parameters for the architecture are the number of convolutional filters together with their size in the initial two layers. In the final linear layers it is important then to decide how many nodes are used in the hidden layer."
   ]
  },
  {
   "cell_type": "markdown",
   "id": "f60180a0",
   "metadata": {},
   "source": [
    "![Image file needs to be placed in the same working directory of the .ipynb](CNN.png)"
   ]
  },
  {
   "cell_type": "code",
   "execution_count": 23,
   "id": "5e901f21",
   "metadata": {},
   "outputs": [],
   "source": [
    "class CNNModel(nn.Module):\n",
    "    def __init__(self, conv_filters, conv_filters2, conv_filter_size, num_units_fc):\n",
    "        super(CNNModel, self).__init__()\n",
    "        self.num_inputs_fc = conv_filters2*(int(((seq_length-conv_filter_size+1)/2-conv_filter_size+1)/2))\n",
    "\n",
    "        self.conv1 = nn.Conv1d(in_channels = 1, out_channels = conv_filters, \n",
    "                               kernel_size=conv_filter_size, padding = 0, stride = 1)\n",
    "        self.max_pool = nn.MaxPool1d(2)\n",
    "\n",
    "        self.conv2 = nn.Conv1d(in_channels = conv_filters, out_channels = conv_filters2, \n",
    "                               kernel_size=conv_filter_size, padding = 0, stride = 1)\n",
    "        self.max_pool2 = nn.MaxPool1d(2)\n",
    "        self.fc = nn.Linear(self.num_inputs_fc, num_units_fc)\n",
    "        self.out = nn.Linear(num_units_fc, n_classes) \n",
    "\n",
    "    def forward(self, x):\n",
    "        #set_trace()\n",
    "        x = x.view(-1, 1, seq_length)\n",
    "        x = self.conv1(x)\n",
    "        x = self.max_pool(x)\n",
    "        x = self.conv2(x)\n",
    "        x = self.max_pool2(x)\n",
    "        x = x.view(-1, self.num_inputs_fc)\n",
    "        x = torch.relu(self.fc(x))\n",
    "        x = self.out(x)\n",
    "        return x"
   ]
  },
  {
   "cell_type": "markdown",
   "id": "c5791e85-d99d-41a4-a121-988a53573068",
   "metadata": {},
   "source": [
    "### ResNet"
   ]
  },
  {
   "cell_type": "markdown",
   "id": "707b0cc9",
   "metadata": {},
   "source": [
    "The ResNet architecture implemented here is based on the one suggested in [2] and represented in the figure below."
   ]
  },
  {
   "cell_type": "markdown",
   "id": "17efe681",
   "metadata": {},
   "source": [
    "![Image file needs to be placed in the same working directory of the .ipynb](ResNet.png)"
   ]
  },
  {
   "cell_type": "code",
   "execution_count": 24,
   "id": "99583d2c",
   "metadata": {},
   "outputs": [],
   "source": [
    "class ResBlock(nn.Module):\n",
    "    def __init__(self, in_channels, out_channels, kss=[7, 5, 3], stride=1, padding=3):\n",
    "        super(ResBlock, self).__init__()\n",
    "        \n",
    "        self.convblock1 = nn.Sequential(\n",
    "            nn.Conv1d(in_channels, out_channels, \n",
    "                               kernel_size=kss[0], padding = 3, stride = 1),\n",
    "            nn.BatchNorm1d(out_channels),\n",
    "            nn.ReLU()    \n",
    "        )\n",
    "\n",
    "        self.convblock2 = nn.Sequential(\n",
    "            nn.Conv1d(out_channels, out_channels, \n",
    "                               kernel_size=kss[1], padding = 2, stride = 1),\n",
    "            nn.BatchNorm1d(out_channels),\n",
    "            nn.ReLU()    \n",
    "        )\n",
    "\n",
    "        self.convblock3 = nn.Sequential(\n",
    "            nn.Conv1d(out_channels, out_channels, \n",
    "                               kernel_size=kss[2], padding = 1, stride = 1),\n",
    "            nn.BatchNorm1d(out_channels), \n",
    "            nn.ReLU() \n",
    "        )\n",
    "\n",
    "\n",
    "        #expand channels for the sum if necessary\n",
    "        if stride != 1 or in_channels != out_channels:\n",
    "            self.shortcut = nn.Sequential(\n",
    "                nn.Conv1d(in_channels, out_channels, kernel_size=1,stride=1),\n",
    "                nn.BatchNorm1d(out_channels)\n",
    "            )\n",
    "        else:\n",
    "            self.shortcut = nn.Sequential()                \n",
    "\n",
    "        self.act = nn.ReLU()\n",
    "\n",
    "    def forward(self, x):\n",
    "        res = x\n",
    "        x = self.convblock1(x)\n",
    "        x = self.convblock2(x)\n",
    "        x = self.convblock3(x)\n",
    "        x = x + self.shortcut(res)\n",
    "        x = self.act(x)\n",
    "        return x\n",
    "    \n",
    "class ResNetModel(nn.Module):\n",
    "    def __init__(self, in_channels, mid_channels, num_pred_classes):\n",
    "        super(ResNetModel, self).__init__()        \n",
    "        kss=[7, 5, 3]        \n",
    "        self.resblock1 = ResBlock(in_channels, mid_channels, kss=kss)\n",
    "        self.resblock2 = ResBlock(mid_channels, mid_channels * 2, kss=kss)\n",
    "        self.resblock3 = ResBlock(mid_channels * 2, mid_channels * 2, kss=kss)\n",
    "        print (self.resblock3)\n",
    "        self.gap = nn.AdaptiveAvgPool1d(1)\n",
    "        print (self.gap)\n",
    "        self.fc = nn.Linear(mid_channels * 2, num_pred_classes)\n",
    "        self.softmax = torch.nn.Softmax(dim=1) \n",
    "        print (self.fc)\n",
    "\n",
    "    def forward(self, x):\n",
    "        x = x.view(-1, 1, seq_length)\n",
    "        x = self.resblock1(x)        \n",
    "        x = self.resblock2(x)\n",
    "        x = self.resblock3(x)\n",
    "        x = self.gap(x)\n",
    "        x = x.view(x.shape[0], -1)\n",
    "        x = self.fc(x)\n",
    "        return x"
   ]
  },
  {
   "cell_type": "markdown",
   "id": "62eb8ddf-01ae-4189-99db-edde82996147",
   "metadata": {},
   "source": [
    "## Optimization class"
   ]
  },
  {
   "cell_type": "markdown",
   "id": "02918810",
   "metadata": {},
   "source": [
    "Below is the optimization class that we use for hyperparameter optimization of the models described above. \n",
    "\n",
    "It is split into 4 functions: the \"train\" function that goes through over the train and validation data \"n_epochs\" times. For every batch an optimization step is applied and validated over the validation set (\"train_step\" function). In this step data are passed through the model, loss is measured, gradients are computed through backpropagation and finally parameters are updated.\n",
    "\n",
    "Losses are plotted with the help of the \"plot_losses\" function. \n",
    "\n",
    "Finally, the \"evaluate\" function measures the performance of the model over train and test data."
   ]
  },
  {
   "cell_type": "code",
   "execution_count": 21,
   "id": "891e888a",
   "metadata": {},
   "outputs": [],
   "source": [
    "class Optimization:\n",
    "    def __init__(self, model, loss_fn, optimizer):\n",
    "        self.model = model\n",
    "        self.loss_fn = loss_fn\n",
    "        self.optimizer = optimizer\n",
    "        self.train_losses = []\n",
    "        self.val_losses = []\n",
    "    \n",
    "    def train_step(self, x, y):\n",
    "        # Sets model to train mode\n",
    "        self.model.train()\n",
    "\n",
    "        # Makes predictions\n",
    "        yhat = self.model(x)\n",
    "\n",
    "        # Computes loss\n",
    "        loss = self.loss_fn(yhat, y)\n",
    "\n",
    "        # Computes gradients\n",
    "        loss.backward()\n",
    "\n",
    "        # Updates parameters and zeroes gradients\n",
    "        self.optimizer.step()\n",
    "        self.optimizer.zero_grad()\n",
    "\n",
    "        # Returns the loss\n",
    "        return loss.item()\n",
    "    \n",
    "    def train(self, train_loader, val_loader, batch_size=5, n_epochs=100, n_features=1):\n",
    "        \n",
    "        for epoch in range(1, n_epochs + 1):\n",
    "            batch_losses = []\n",
    "            for x_batch, y_batch in train_loader:\n",
    "                x_batch = x_batch.view([batch_size, -1, n_features]).to(device)\n",
    "                y_batch = y_batch.to(device)\n",
    "                loss = self.train_step(x_batch, y_batch)\n",
    "                batch_losses.append(loss)\n",
    "            training_loss = np.mean(batch_losses)\n",
    "            self.train_losses.append(training_loss)\n",
    "\n",
    "            with torch.no_grad():\n",
    "                batch_val_losses = []\n",
    "                for x_val, y_val in val_loader:\n",
    "                    x_val = x_val.view([batch_size, -1, n_features]).to(device)\n",
    "                    y_val = y_val.to(device)\n",
    "                    self.model.eval()\n",
    "                    yhat = self.model(x_val)\n",
    "                    val_loss = self.loss_fn(yhat, y_val).item()\n",
    "                    batch_val_losses.append(val_loss)\n",
    "                validation_loss = np.mean(batch_val_losses)\n",
    "                self.val_losses.append(validation_loss)\n",
    "\n",
    "            if (epoch <= 10) | (epoch % 50 == 0):\n",
    "                print(\n",
    "                    f\"[{epoch}/{n_epochs}] Training loss: {training_loss:.4f}\\t Validation loss: {validation_loss:.4f}\"\n",
    "                )\n",
    "\n",
    "        \n",
    "    def plot_losses(self):\n",
    "        plt.plot(self.train_losses, label=\"Training loss\")\n",
    "        plt.plot(self.val_losses, label=\"Validation loss\")\n",
    "        plt.legend()\n",
    "        plt.title(\"Losses\")\n",
    "        plt.show()\n",
    "        plt.close()\n",
    "        \n",
    "    def evaluate(self, test_loader, batch_size=5, n_features=1):\n",
    "        with torch.no_grad():\n",
    "            predictions = []\n",
    "            values = []\n",
    "            total = 0\n",
    "            correct = 0\n",
    "            for x_test, y_test in test_loader:\n",
    "                x_test = x_test.view([batch_size, -1, n_features]).to(device)\n",
    "                y_test = y_test.to(device)\n",
    "                self.model.eval()\n",
    "                yhat = self.model(x_test)\n",
    "                _, predicted = torch.max(yhat.data, 1)\n",
    "                predictions.append(predicted.cpu().detach().numpy())\n",
    "                values.append(y_test.cpu().detach().numpy())\n",
    "                total += y_test.size(0)\n",
    "                correct += (predicted == y_test).sum().item()   \n",
    "        print (\"Accuracy of \", self.model, \" : %.2f %%\" % (100 * correct / total))\n",
    "        print (\"Correct : \", correct, \"Total : \", total)\n",
    "        return predictions, values"
   ]
  },
  {
   "cell_type": "markdown",
   "id": "d94ab547-fc05-4908-84f1-ea27b44d3db2",
   "metadata": {},
   "source": [
    "## Execution preparation"
   ]
  },
  {
   "cell_type": "markdown",
   "id": "f04e4299",
   "metadata": {},
   "source": [
    "Function to select one of the classes/models above:"
   ]
  },
  {
   "cell_type": "code",
   "execution_count": 17,
   "id": "62842c3f",
   "metadata": {},
   "outputs": [],
   "source": [
    "def get_model(model, model_params):\n",
    "    models = {\n",
    "        \"mlp\" : MLPModel,\n",
    "        \"rnn\": RNNModel,\n",
    "        \"lstm\": LSTMModel,\n",
    "        \"gru\": GRUModel,\n",
    "        \"cnn\" : CNNModel,\n",
    "        \"resnet\" : ResNetModel        \n",
    "    }\n",
    "    return models.get(model.lower())(**model_params)"
   ]
  },
  {
   "cell_type": "markdown",
   "id": "73f0fddb",
   "metadata": {},
   "source": [
    "Parameters setting used for all the models. We choose to have 100 epochs and a **learning rate** equal to 0.00001. This a quite low learning rate that implies a low convergence of the weights and that requires a not so low number of epochs. We use as well a very low **weight decay** in our optimizer that should help regularization.\n",
    "\n",
    "Parameters like learning rate, batch size, weight decay should actually be optimized through a **tuning** process. With the help of the ray-tuner package, we set this up for the case of MLP. "
   ]
  },
  {
   "cell_type": "code",
   "execution_count": 18,
   "id": "255c3847-61ec-4cf5-9637-2788f0e84513",
   "metadata": {},
   "outputs": [],
   "source": [
    "input_size = X_train.shape[-1]\n",
    "n_classes=len(np.unique(y_train))\n",
    "n_epochs = 100\n",
    "learning_rate = 1e-3\n",
    "weight_decay = 1e-6"
   ]
  },
  {
   "cell_type": "code",
   "execution_count": 24,
   "id": "d237efa2-fd6b-4b6f-a5c5-177ae6946578",
   "metadata": {},
   "outputs": [
    {
     "data": {
      "text/plain": [
       "(array([0., 1., 2.]), array([152, 275, 573]))"
      ]
     },
     "execution_count": 24,
     "metadata": {},
     "output_type": "execute_result"
    }
   ],
   "source": [
    "np.unique(y_train, return_counts=True)"
   ]
  },
  {
   "cell_type": "code",
   "execution_count": 25,
   "id": "416b0dab",
   "metadata": {},
   "outputs": [
    {
     "data": {
      "text/plain": [
       "(array([0., 1., 2.]), array([1177, 2305, 4754]))"
      ]
     },
     "execution_count": 25,
     "metadata": {},
     "output_type": "execute_result"
    }
   ],
   "source": [
    "np.unique(y_test, return_counts=True)"
   ]
  },
  {
   "cell_type": "markdown",
   "id": "62acfbcc",
   "metadata": {},
   "source": [
    "## Hyper-parameter tuning for MLP using Ray Tune"
   ]
  },
  {
   "cell_type": "markdown",
   "id": "6ba94d16",
   "metadata": {},
   "source": [
    "Here we re-use most of the code found on the ray tune tutorial pages with only few adaptations. However, this implies a duplication of certain functions like the train and evaluate functions. Better integration of the ray-tune code with the existing train and evaluate functions would actually be required."
   ]
  },
  {
   "cell_type": "code",
   "execution_count": 26,
   "id": "a670b218",
   "metadata": {},
   "outputs": [],
   "source": [
    "def train(config, checkpoint_dir=None, data_dir=None):\n",
    "\n",
    "    model_params = {\n",
    "                'seq_length': seq_length,\n",
    "                'hidden_size' : config[\"hidden_size\"],\n",
    "                'n_classes' : 3,\n",
    "                'drop_prob' : 0.1   \n",
    "               }\n",
    "\n",
    "    model = get_model('mlp', model_params)\n",
    "    device = \"cpu\"\n",
    "    if torch.cuda.is_available():\n",
    "        device = \"cuda:0\"\n",
    "        if torch.cuda.device_count() > 1:\n",
    "            model = nn.DataParallel(model)\n",
    "    model.to(device)  \n",
    "    \n",
    "    criterion = nn.CrossEntropyLoss()\n",
    "    optimizer = optim.Adam(model.parameters(), lr=learning_rate, weight_decay=weight_decay)\n",
    "\n",
    "    if checkpoint_dir:\n",
    "        model_state, optimizer_state = torch.load(\n",
    "            os.path.join(checkpoint_dir, \"checkpoint\"))\n",
    "        model.load_state_dict(model_state)\n",
    "        optimizer.load_state_dict(optimizer_state)\n",
    "\n",
    "    trainloader = torch.utils.data.DataLoader(\n",
    "        train_ds,\n",
    "        batch_size=int(config[\"batch_size\"]),\n",
    "        shuffle=True,\n",
    "        num_workers=8)\n",
    "    valloader = torch.utils.data.DataLoader(\n",
    "        val_ds,\n",
    "        batch_size=int(config[\"batch_size\"]),\n",
    "        shuffle=True,\n",
    "        num_workers=8)\n",
    "\n",
    "    for epoch in range(100):  # loop over the dataset multiple times\n",
    "        running_loss = 0.0\n",
    "        epoch_steps = 0\n",
    "        for i, data in enumerate(trainloader, 0):\n",
    "            # get the inputs; data is a list of [inputs, labels]\n",
    "            inputs, labels = data\n",
    "            inputs, labels = inputs.to(device), labels.to(device)\n",
    "\n",
    "            # zero the parameter gradients\n",
    "            optimizer.zero_grad()\n",
    "\n",
    "            # forward + backward + optimize\n",
    "            outputs = model(inputs)\n",
    "            loss = criterion(outputs, labels)\n",
    "            loss.backward()\n",
    "            optimizer.step()\n",
    "\n",
    "            # print statistics\n",
    "            running_loss += loss.item()\n",
    "            epoch_steps += 1\n",
    "            if i % 2000 == 1999:  # print every 2000 mini-batches\n",
    "                print(\"[%d, %5d] loss: %.3f\" % (epoch + 1, i + 1,\n",
    "                                                running_loss / epoch_steps))\n",
    "                running_loss = 0.0\n",
    "\n",
    "        # Validation loss\n",
    "        val_loss = 0.0\n",
    "        val_steps = 0\n",
    "        total = 0\n",
    "        correct = 0\n",
    "        for i, data in enumerate(valloader, 0):\n",
    "            with torch.no_grad():\n",
    "                inputs, labels = data\n",
    "                inputs, labels = inputs.to(device), labels.to(device)\n",
    "\n",
    "                outputs = model(inputs)\n",
    "                _, predicted = torch.max(outputs.data, 1)\n",
    "                total += labels.size(0)\n",
    "                correct += (predicted == labels).sum().item()\n",
    "\n",
    "                loss = criterion(outputs, labels)\n",
    "                val_loss += loss.cpu().numpy()\n",
    "                val_steps += 1\n",
    "\n",
    "        with tune.checkpoint_dir(epoch) as checkpoint_dir:\n",
    "            path = os.path.join(checkpoint_dir, \"checkpoint\")\n",
    "            torch.save((model.state_dict(), optimizer.state_dict()), path)\n",
    "\n",
    "        tune.report(loss=(val_loss / val_steps), accuracy=correct / total)\n",
    "    print(\"Finished Training\")"
   ]
  },
  {
   "cell_type": "code",
   "execution_count": 27,
   "id": "905f6948",
   "metadata": {},
   "outputs": [],
   "source": [
    "def test_accuracy(net, device=\"cpu\"):\n",
    "    \n",
    "    testloader = torch.utils.data.DataLoader(\n",
    "        test_ds, batch_size=4, shuffle=False, num_workers=2)\n",
    "\n",
    "    correct = 0\n",
    "    total = 0\n",
    "    with torch.no_grad():\n",
    "        for data in testloader:\n",
    "            images, labels = data\n",
    "            images, labels = images.to(device), labels.to(device)\n",
    "            outputs = net(images)\n",
    "            _, predicted = torch.max(outputs.data, 1)\n",
    "            total += labels.size(0)\n",
    "            correct += (predicted == labels).sum().item()\n",
    "\n",
    "    return correct / total"
   ]
  },
  {
   "cell_type": "code",
   "execution_count": 28,
   "id": "1389da3b",
   "metadata": {},
   "outputs": [],
   "source": [
    "def main(num_samples=10, max_num_epochs=10, gpus_per_trial=2):\n",
    "    data_dir = os.path.abspath(\"/home/jovyan/shared-data/\")\n",
    "    config = {\n",
    "        \"lr\": tune.choice([1e-5, 1e-3,1e-1]),        \n",
    "        \"hidden_size\": tune.choice([200,350,500]),\n",
    "        \"batch_size\": tune.choice([10, 50, 100])\n",
    "    }\n",
    "    scheduler = ASHAScheduler(\n",
    "        metric=\"loss\",\n",
    "        mode=\"min\",\n",
    "        max_t=max_num_epochs,\n",
    "        grace_period=1,\n",
    "        reduction_factor=2)\n",
    "    reporter = CLIReporter(\n",
    "        # parameter_columns=[\"l1\", \"l2\", \"lr\", \"batch_size\"],\n",
    "        metric_columns=[\"loss\", \"accuracy\", \"training_iteration\"])\n",
    "    result = tune.run(\n",
    "        partial(train, data_dir=data_dir),\n",
    "        resources_per_trial={\"cpu\": 2, \"gpu\": gpus_per_trial},\n",
    "        config=config,\n",
    "        num_samples=num_samples,\n",
    "        scheduler=scheduler,\n",
    "        progress_reporter=reporter)\n",
    "\n",
    "    best_trial = result.get_best_trial(\"loss\", \"min\", \"last\")\n",
    "    print(\"Best trial config: {}\".format(best_trial.config))\n",
    "    print(\"Best trial final validation loss: {}\".format(\n",
    "        best_trial.last_result[\"loss\"]))\n",
    "    print(\"Best trial final validation accuracy: {}\".format(\n",
    "        best_trial.last_result[\"accuracy\"]))\n",
    "\n",
    "    best_trained_model = MLPModel(seq_length,best_trial.config[\"hidden_size\"],n_classes,drop_prob=0.1)\n",
    "    device = \"cpu\"\n",
    "    if torch.cuda.is_available():\n",
    "        device = \"cuda:0\"\n",
    "        if gpus_per_trial > 1:\n",
    "            best_trained_model = nn.DataParallel(best_trained_model)\n",
    "    best_trained_model.to(device)\n",
    "\n",
    "    best_checkpoint_dir = best_trial.checkpoint.value\n",
    "    model_state, optimizer_state = torch.load(os.path.join(\n",
    "        best_checkpoint_dir, \"checkpoint\"))\n",
    "    best_trained_model.load_state_dict(model_state)\n",
    "\n",
    "    test_acc = test_accuracy(best_trained_model, device)\n",
    "    print(\"Best trial test set accuracy: {}\".format(test_acc))"
   ]
  },
  {
   "cell_type": "code",
   "execution_count": 29,
   "id": "7e23221d",
   "metadata": {},
   "outputs": [
    {
     "name": "stderr",
     "output_type": "stream",
     "text": [
      "2022-04-29 13:16:35,793\tINFO trial_runner.py:803 -- starting train_980e3_00000\n",
      "2022-04-29 13:16:35,951\tERROR syncer.py:119 -- Log sync requires rsync to be installed.\n",
      "2022-04-29 13:16:42,533\tINFO trial_runner.py:803 -- starting train_980e3_00001\n"
     ]
    },
    {
     "name": "stdout",
     "output_type": "stream",
     "text": [
      "== Status ==\n",
      "Current time: 2022-04-29 13:16:35 (running for 00:00:00.84)\n",
      "Memory usage on this node: 40.8/220.2 GiB\n",
      "Using AsyncHyperBand: num_stopped=0\n",
      "Bracket: Iter 8.000: None | Iter 4.000: None | Iter 2.000: None | Iter 1.000: None\n",
      "Resources requested: 2.0/8 CPUs, 0/1 GPUs, 0.0/57.22 GiB heap, 0.0/28.52 GiB objects (0.0/1.0 accelerator_type:V100)\n",
      "Result logdir: /home/jovyan/ray_results/train_2022-04-29_13-16-35\n",
      "Number of trials: 10/10 (9 PENDING, 1 RUNNING)\n",
      "+-------------------+----------+----------------+--------------+---------------+-------+\n",
      "| Trial name        | status   | loc            |   batch_size |   hidden_size |    lr |\n",
      "|-------------------+----------+----------------+--------------+---------------+-------|\n",
      "| train_980e3_00000 | RUNNING  | 10.1.0.103:501 |           50 |           350 | 1e-05 |\n",
      "| train_980e3_00001 | PENDING  |                |           10 |           350 | 0.001 |\n",
      "| train_980e3_00002 | PENDING  |                |           50 |           500 | 1e-05 |\n",
      "| train_980e3_00003 | PENDING  |                |           50 |           350 | 0.001 |\n",
      "| train_980e3_00004 | PENDING  |                |           10 |           350 | 0.1   |\n",
      "| train_980e3_00005 | PENDING  |                |           50 |           500 | 1e-05 |\n",
      "| train_980e3_00006 | PENDING  |                |          100 |           350 | 0.001 |\n",
      "| train_980e3_00007 | PENDING  |                |          100 |           200 | 0.1   |\n",
      "| train_980e3_00008 | PENDING  |                |           10 |           200 | 0.1   |\n",
      "| train_980e3_00009 | PENDING  |                |          100 |           350 | 1e-05 |\n",
      "+-------------------+----------+----------------+--------------+---------------+-------+\n",
      "\n",
      "\n"
     ]
    },
    {
     "name": "stderr",
     "output_type": "stream",
     "text": [
      "2022-04-29 13:16:49,140\tINFO trial_runner.py:803 -- starting train_980e3_00002\n"
     ]
    },
    {
     "name": "stdout",
     "output_type": "stream",
     "text": [
      "== Status ==\n",
      "Current time: 2022-04-29 13:16:42 (running for 00:00:07.45)\n",
      "Memory usage on this node: 41.1/220.2 GiB\n",
      "Using AsyncHyperBand: num_stopped=0\n",
      "Bracket: Iter 8.000: None | Iter 4.000: None | Iter 2.000: None | Iter 1.000: None\n",
      "Resources requested: 4.0/8 CPUs, 0/1 GPUs, 0.0/57.22 GiB heap, 0.0/28.52 GiB objects (0.0/1.0 accelerator_type:V100)\n",
      "Result logdir: /home/jovyan/ray_results/train_2022-04-29_13-16-35\n",
      "Number of trials: 10/10 (8 PENDING, 2 RUNNING)\n",
      "+-------------------+----------+----------------+--------------+---------------+-------+\n",
      "| Trial name        | status   | loc            |   batch_size |   hidden_size |    lr |\n",
      "|-------------------+----------+----------------+--------------+---------------+-------|\n",
      "| train_980e3_00000 | RUNNING  | 10.1.0.103:501 |           50 |           350 | 1e-05 |\n",
      "| train_980e3_00001 | RUNNING  | 10.1.0.103:536 |           10 |           350 | 0.001 |\n",
      "| train_980e3_00002 | PENDING  |                |           50 |           500 | 1e-05 |\n",
      "| train_980e3_00003 | PENDING  |                |           50 |           350 | 0.001 |\n",
      "| train_980e3_00004 | PENDING  |                |           10 |           350 | 0.1   |\n",
      "| train_980e3_00005 | PENDING  |                |           50 |           500 | 1e-05 |\n",
      "| train_980e3_00006 | PENDING  |                |          100 |           350 | 0.001 |\n",
      "| train_980e3_00007 | PENDING  |                |          100 |           200 | 0.1   |\n",
      "| train_980e3_00008 | PENDING  |                |           10 |           200 | 0.1   |\n",
      "| train_980e3_00009 | PENDING  |                |          100 |           350 | 1e-05 |\n",
      "+-------------------+----------+----------------+--------------+---------------+-------+\n",
      "\n",
      "\n"
     ]
    },
    {
     "name": "stderr",
     "output_type": "stream",
     "text": [
      "2022-04-29 13:16:55,730\tINFO trial_runner.py:803 -- starting train_980e3_00003\n"
     ]
    },
    {
     "name": "stdout",
     "output_type": "stream",
     "text": [
      "== Status ==\n",
      "Current time: 2022-04-29 13:16:49 (running for 00:00:14.07)\n",
      "Memory usage on this node: 41.5/220.2 GiB\n",
      "Using AsyncHyperBand: num_stopped=0\n",
      "Bracket: Iter 8.000: None | Iter 4.000: None | Iter 2.000: None | Iter 1.000: None\n",
      "Resources requested: 6.0/8 CPUs, 0/1 GPUs, 0.0/57.22 GiB heap, 0.0/28.52 GiB objects (0.0/1.0 accelerator_type:V100)\n",
      "Result logdir: /home/jovyan/ray_results/train_2022-04-29_13-16-35\n",
      "Number of trials: 10/10 (7 PENDING, 3 RUNNING)\n",
      "+-------------------+----------+----------------+--------------+---------------+-------+\n",
      "| Trial name        | status   | loc            |   batch_size |   hidden_size |    lr |\n",
      "|-------------------+----------+----------------+--------------+---------------+-------|\n",
      "| train_980e3_00000 | RUNNING  | 10.1.0.103:501 |           50 |           350 | 1e-05 |\n",
      "| train_980e3_00001 | RUNNING  | 10.1.0.103:536 |           10 |           350 | 0.001 |\n",
      "| train_980e3_00002 | RUNNING  | 10.1.0.103:798 |           50 |           500 | 1e-05 |\n",
      "| train_980e3_00003 | PENDING  |                |           50 |           350 | 0.001 |\n",
      "| train_980e3_00004 | PENDING  |                |           10 |           350 | 0.1   |\n",
      "| train_980e3_00005 | PENDING  |                |           50 |           500 | 1e-05 |\n",
      "| train_980e3_00006 | PENDING  |                |          100 |           350 | 0.001 |\n",
      "| train_980e3_00007 | PENDING  |                |          100 |           200 | 0.1   |\n",
      "| train_980e3_00008 | PENDING  |                |           10 |           200 | 0.1   |\n",
      "| train_980e3_00009 | PENDING  |                |          100 |           350 | 1e-05 |\n",
      "+-------------------+----------+----------------+--------------+---------------+-------+\n",
      "\n",
      "\n",
      "== Status ==\n",
      "Current time: 2022-04-29 13:16:55 (running for 00:00:20.65)\n",
      "Memory usage on this node: 41.8/220.2 GiB\n",
      "Using AsyncHyperBand: num_stopped=0\n",
      "Bracket: Iter 8.000: None | Iter 4.000: None | Iter 2.000: None | Iter 1.000: None\n",
      "Resources requested: 8.0/8 CPUs, 0/1 GPUs, 0.0/57.22 GiB heap, 0.0/28.52 GiB objects (0.0/1.0 accelerator_type:V100)\n",
      "Result logdir: /home/jovyan/ray_results/train_2022-04-29_13-16-35\n",
      "Number of trials: 10/10 (6 PENDING, 4 RUNNING)\n",
      "+-------------------+----------+-----------------+--------------+---------------+-------+\n",
      "| Trial name        | status   | loc             |   batch_size |   hidden_size |    lr |\n",
      "|-------------------+----------+-----------------+--------------+---------------+-------|\n",
      "| train_980e3_00000 | RUNNING  | 10.1.0.103:501  |           50 |           350 | 1e-05 |\n",
      "| train_980e3_00001 | RUNNING  | 10.1.0.103:536  |           10 |           350 | 0.001 |\n",
      "| train_980e3_00002 | RUNNING  | 10.1.0.103:798  |           50 |           500 | 1e-05 |\n",
      "| train_980e3_00003 | RUNNING  | 10.1.0.103:1074 |           50 |           350 | 0.001 |\n",
      "| train_980e3_00004 | PENDING  |                 |           10 |           350 | 0.1   |\n",
      "| train_980e3_00005 | PENDING  |                 |           50 |           500 | 1e-05 |\n",
      "| train_980e3_00006 | PENDING  |                 |          100 |           350 | 0.001 |\n",
      "| train_980e3_00007 | PENDING  |                 |          100 |           200 | 0.1   |\n",
      "| train_980e3_00008 | PENDING  |                 |           10 |           200 | 0.1   |\n",
      "| train_980e3_00009 | PENDING  |                 |          100 |           350 | 1e-05 |\n",
      "+-------------------+----------+-----------------+--------------+---------------+-------+\n",
      "\n",
      "\n",
      "Result for train_980e3_00002:\n",
      "  accuracy: 0.66\n",
      "  date: 2022-04-29_13-16-56\n",
      "  done: false\n",
      "  experiment_id: 92e1accef7de4c249b38d5b360832e38\n",
      "  hostname: jupyter-gianluca-20colangelo\n",
      "  iterations_since_restore: 1\n",
      "  loss: 0.5840206146240234\n",
      "  node_ip: 10.1.0.103\n",
      "  pid: 798\n",
      "  should_checkpoint: true\n",
      "  time_since_restore: 0.6887288093566895\n",
      "  time_this_iter_s: 0.6887288093566895\n",
      "  time_total_s: 0.6887288093566895\n",
      "  timestamp: 1651238216\n",
      "  timesteps_since_restore: 0\n",
      "  training_iteration: 1\n",
      "  trial_id: 980e3_00002\n",
      "  warmup_time: 0.003976583480834961\n",
      "  \n",
      "== Status ==\n",
      "Current time: 2022-04-29 13:17:02 (running for 00:00:27.19)\n",
      "Memory usage on this node: 42.1/220.2 GiB\n",
      "Using AsyncHyperBand: num_stopped=0\n",
      "Bracket: Iter 8.000: None | Iter 4.000: None | Iter 2.000: None | Iter 1.000: -0.5840206146240234\n",
      "Resources requested: 8.0/8 CPUs, 0/1 GPUs, 0.0/57.22 GiB heap, 0.0/28.52 GiB objects (0.0/1.0 accelerator_type:V100)\n",
      "Result logdir: /home/jovyan/ray_results/train_2022-04-29_13-16-35\n",
      "Number of trials: 10/10 (6 PENDING, 4 RUNNING)\n",
      "+-------------------+----------+-----------------+--------------+---------------+-------+----------+------------+----------------------+\n",
      "| Trial name        | status   | loc             |   batch_size |   hidden_size |    lr |     loss |   accuracy |   training_iteration |\n",
      "|-------------------+----------+-----------------+--------------+---------------+-------+----------+------------+----------------------|\n",
      "| train_980e3_00000 | RUNNING  | 10.1.0.103:501  |           50 |           350 | 1e-05 |          |            |                      |\n",
      "| train_980e3_00001 | RUNNING  | 10.1.0.103:536  |           10 |           350 | 0.001 |          |            |                      |\n",
      "| train_980e3_00002 | RUNNING  | 10.1.0.103:798  |           50 |           500 | 1e-05 | 0.584021 |       0.66 |                    1 |\n",
      "| train_980e3_00003 | RUNNING  | 10.1.0.103:1074 |           50 |           350 | 0.001 |          |            |                      |\n",
      "| train_980e3_00004 | PENDING  |                 |           10 |           350 | 0.1   |          |            |                      |\n",
      "| train_980e3_00005 | PENDING  |                 |           50 |           500 | 1e-05 |          |            |                      |\n",
      "| train_980e3_00006 | PENDING  |                 |          100 |           350 | 0.001 |          |            |                      |\n",
      "| train_980e3_00007 | PENDING  |                 |          100 |           200 | 0.1   |          |            |                      |\n",
      "| train_980e3_00008 | PENDING  |                 |           10 |           200 | 0.1   |          |            |                      |\n",
      "| train_980e3_00009 | PENDING  |                 |          100 |           350 | 1e-05 |          |            |                      |\n",
      "+-------------------+----------+-----------------+--------------+---------------+-------+----------+------------+----------------------+\n",
      "\n",
      "\n",
      "Result for train_980e3_00001:\n",
      "  accuracy: 0.25\n",
      "  date: 2022-04-29_13-16-50\n",
      "  done: true\n",
      "  experiment_id: d823d99154d94736b74c8e4bc9292c08\n",
      "  hostname: jupyter-gianluca-20colangelo\n",
      "  iterations_since_restore: 1\n",
      "  loss: 0.9777649402618408\n",
      "  node_ip: 10.1.0.103\n",
      "  pid: 536\n",
      "  should_checkpoint: true\n",
      "  time_since_restore: 1.1734881401062012\n",
      "  time_this_iter_s: 1.1734881401062012\n",
      "  time_total_s: 1.1734881401062012\n",
      "  timestamp: 1651238210\n",
      "  timesteps_since_restore: 0\n",
      "  training_iteration: 1\n",
      "  trial_id: 980e3_00001\n",
      "  warmup_time: 0.004151582717895508\n",
      "  \n",
      "Result for train_980e3_00000:\n",
      "  accuracy: 0.45\n",
      "  date: 2022-04-29_13-16-43\n",
      "  done: true\n",
      "  experiment_id: 77799b2a7fb6440d9b72c3f1205839e2\n",
      "  hostname: jupyter-gianluca-20colangelo\n",
      "  iterations_since_restore: 1\n",
      "  loss: 0.8479202687740326\n",
      "  node_ip: 10.1.0.103\n",
      "  pid: 501\n",
      "  should_checkpoint: true\n",
      "  time_since_restore: 0.5823047161102295\n",
      "  time_this_iter_s: 0.5823047161102295\n",
      "  time_total_s: 0.5823047161102295\n",
      "  timestamp: 1651238203\n",
      "  timesteps_since_restore: 0\n",
      "  training_iteration: 1\n",
      "  trial_id: 980e3_00000\n",
      "  warmup_time: 0.0045125484466552734\n",
      "  \n",
      "Result for train_980e3_00003:\n",
      "  accuracy: 0.71\n",
      "  date: 2022-04-29_13-17-02\n",
      "  done: false\n",
      "  experiment_id: cc580c4558004c7f9061e4fa61626e0f\n",
      "  hostname: jupyter-gianluca-20colangelo\n",
      "  iterations_since_restore: 1\n",
      "  loss: 0.5843560099601746\n",
      "  node_ip: 10.1.0.103\n",
      "  pid: 1074\n",
      "  should_checkpoint: true\n",
      "  time_since_restore: 0.6664705276489258\n",
      "  time_this_iter_s: 0.6664705276489258\n",
      "  time_total_s: 0.6664705276489258\n",
      "  timestamp: 1651238222\n",
      "  timesteps_since_restore: 0\n",
      "  training_iteration: 1\n",
      "  trial_id: 980e3_00003\n",
      "  warmup_time: 0.004043102264404297\n",
      "  \n"
     ]
    },
    {
     "name": "stderr",
     "output_type": "stream",
     "text": [
      "2022-04-29 13:17:03,179\tINFO trial_runner.py:803 -- starting train_980e3_00004\n",
      "2022-04-29 13:17:03,240\tINFO trial_runner.py:803 -- starting train_980e3_00005\n"
     ]
    },
    {
     "name": "stdout",
     "output_type": "stream",
     "text": [
      "Result for train_980e3_00003:\n",
      "  accuracy: 0.66\n",
      "  date: 2022-04-29_13-17-03\n",
      "  done: true\n",
      "  experiment_id: cc580c4558004c7f9061e4fa61626e0f\n",
      "  hostname: jupyter-gianluca-20colangelo\n",
      "  iterations_since_restore: 2\n",
      "  loss: 0.6033749580383301\n",
      "  node_ip: 10.1.0.103\n",
      "  pid: 1074\n",
      "  should_checkpoint: true\n",
      "  time_since_restore: 1.3377048969268799\n",
      "  time_this_iter_s: 0.6712343692779541\n",
      "  time_total_s: 1.3377048969268799\n",
      "  timestamp: 1651238223\n",
      "  timesteps_since_restore: 0\n",
      "  training_iteration: 2\n",
      "  trial_id: 980e3_00003\n",
      "  warmup_time: 0.004043102264404297\n",
      "  \n"
     ]
    },
    {
     "name": "stderr",
     "output_type": "stream",
     "text": [
      "2022-04-29 13:17:05,180\tINFO trial_runner.py:803 -- starting train_980e3_00006\n"
     ]
    },
    {
     "name": "stdout",
     "output_type": "stream",
     "text": [
      "Result for train_980e3_00002:\n",
      "  accuracy: 0.62\n",
      "  date: 2022-04-29_13-17-07\n",
      "  done: false\n",
      "  experiment_id: 92e1accef7de4c249b38d5b360832e38\n",
      "  hostname: jupyter-gianluca-20colangelo\n",
      "  iterations_since_restore: 9\n",
      "  loss: 0.643066942691803\n",
      "  node_ip: 10.1.0.103\n",
      "  pid: 798\n",
      "  should_checkpoint: true\n",
      "  time_since_restore: 11.937806844711304\n",
      "  time_this_iter_s: 0.6363670825958252\n",
      "  time_total_s: 11.937806844711304\n",
      "  timestamp: 1651238227\n",
      "  timesteps_since_restore: 0\n",
      "  training_iteration: 9\n",
      "  trial_id: 980e3_00002\n",
      "  warmup_time: 0.003976583480834961\n",
      "  \n",
      "== Status ==\n",
      "Current time: 2022-04-29 13:17:07 (running for 00:00:32.56)\n",
      "Memory usage on this node: 41.2/220.2 GiB\n",
      "Using AsyncHyperBand: num_stopped=3\n",
      "Bracket: Iter 8.000: -0.6599599421024323 | Iter 4.000: -0.49694211781024933 | Iter 2.000: -0.6014381051063538 | Iter 1.000: -0.7161381393671036\n",
      "Resources requested: 8.0/8 CPUs, 0/1 GPUs, 0.0/57.22 GiB heap, 0.0/28.52 GiB objects (0.0/1.0 accelerator_type:V100)\n",
      "Result logdir: /home/jovyan/ray_results/train_2022-04-29_13-16-35\n",
      "Number of trials: 10/10 (3 PENDING, 4 RUNNING, 3 TERMINATED)\n",
      "+-------------------+------------+-----------------+--------------+---------------+-------+----------+------------+----------------------+\n",
      "| Trial name        | status     | loc             |   batch_size |   hidden_size |    lr |     loss |   accuracy |   training_iteration |\n",
      "|-------------------+------------+-----------------+--------------+---------------+-------+----------+------------+----------------------|\n",
      "| train_980e3_00002 | RUNNING    | 10.1.0.103:798  |           50 |           500 | 1e-05 | 0.643067 |       0.62 |                    9 |\n",
      "| train_980e3_00004 | RUNNING    | 10.1.0.103:2037 |           10 |           350 | 0.1   |          |            |                      |\n",
      "| train_980e3_00005 | RUNNING    | 10.1.0.103:2038 |           50 |           500 | 1e-05 |          |            |                      |\n",
      "| train_980e3_00006 | RUNNING    | 10.1.0.103:2849 |          100 |           350 | 0.001 |          |            |                      |\n",
      "| train_980e3_00007 | PENDING    |                 |          100 |           200 | 0.1   |          |            |                      |\n",
      "| train_980e3_00008 | PENDING    |                 |           10 |           200 | 0.1   |          |            |                      |\n",
      "| train_980e3_00009 | PENDING    |                 |          100 |           350 | 1e-05 |          |            |                      |\n",
      "| train_980e3_00000 | TERMINATED | 10.1.0.103:501  |           50 |           350 | 1e-05 | 0.84792  |       0.45 |                    1 |\n",
      "| train_980e3_00001 | TERMINATED | 10.1.0.103:536  |           10 |           350 | 0.001 | 0.977765 |       0.25 |                    1 |\n",
      "| train_980e3_00003 | TERMINATED | 10.1.0.103:1074 |           50 |           350 | 0.001 | 0.603375 |       0.66 |                    2 |\n",
      "+-------------------+------------+-----------------+--------------+---------------+-------+----------+------------+----------------------+\n",
      "\n",
      "\n",
      "Result for train_980e3_00005:\n",
      "  accuracy: 0.62\n",
      "  date: 2022-04-29_13-17-11\n",
      "  done: false\n",
      "  experiment_id: b520b0e085574a5bb64589cbef1c8d5b\n",
      "  hostname: jupyter-gianluca-20colangelo\n",
      "  iterations_since_restore: 1\n",
      "  loss: 0.6342948973178864\n",
      "  node_ip: 10.1.0.103\n",
      "  pid: 2038\n",
      "  should_checkpoint: true\n",
      "  time_since_restore: 0.7230825424194336\n",
      "  time_this_iter_s: 0.7230825424194336\n",
      "  time_total_s: 0.7230825424194336\n",
      "  timestamp: 1651238231\n",
      "  timesteps_since_restore: 0\n",
      "  training_iteration: 1\n",
      "  trial_id: 980e3_00005\n",
      "  warmup_time: 0.0055387020111083984\n",
      "  \n",
      "Result for train_980e3_00004:\n",
      "  accuracy: 0.54\n",
      "  date: 2022-04-29_13-17-11\n",
      "  done: true\n",
      "  experiment_id: 632f7240bdf944f59b9ee764dac64983\n",
      "  hostname: jupyter-gianluca-20colangelo\n",
      "  iterations_since_restore: 1\n",
      "  loss: 0.7083814144134521\n",
      "  node_ip: 10.1.0.103\n",
      "  pid: 2037\n",
      "  should_checkpoint: true\n",
      "  time_since_restore: 1.2681362628936768\n",
      "  time_this_iter_s: 1.2681362628936768\n",
      "  time_total_s: 1.2681362628936768\n",
      "  timestamp: 1651238231\n",
      "  timesteps_since_restore: 0\n",
      "  training_iteration: 1\n",
      "  trial_id: 980e3_00004\n",
      "  warmup_time: 0.004951953887939453\n",
      "  \n",
      "Result for train_980e3_00006:\n",
      "  accuracy: 0.56\n",
      "  date: 2022-04-29_13-17-12\n",
      "  done: true\n",
      "  experiment_id: aeb6a11ff8924017a501c5570637f95d\n",
      "  hostname: jupyter-gianluca-20colangelo\n",
      "  iterations_since_restore: 1\n",
      "  loss: 0.7322486042976379\n",
      "  node_ip: 10.1.0.103\n",
      "  pid: 2849\n",
      "  should_checkpoint: true\n",
      "  time_since_restore: 0.6566746234893799\n",
      "  time_this_iter_s: 0.6566746234893799\n",
      "  time_total_s: 0.6566746234893799\n",
      "  timestamp: 1651238232\n",
      "  timesteps_since_restore: 0\n",
      "  training_iteration: 1\n",
      "  trial_id: 980e3_00006\n",
      "  warmup_time: 0.004362583160400391\n",
      "  \n",
      "== Status ==\n",
      "Current time: 2022-04-29 13:17:12 (running for 00:00:37.85)\n",
      "Memory usage on this node: 41.8/220.2 GiB\n",
      "Using AsyncHyperBand: num_stopped=5\n",
      "Bracket: Iter 8.000: -0.6599599421024323 | Iter 4.000: -0.49694211781024933 | Iter 2.000: -0.6014381051063538 | Iter 1.000: -0.7083814144134521\n",
      "Resources requested: 6.0/8 CPUs, 0/1 GPUs, 0.0/57.22 GiB heap, 0.0/28.52 GiB objects (0.0/1.0 accelerator_type:V100)\n",
      "Result logdir: /home/jovyan/ray_results/train_2022-04-29_13-16-35\n",
      "Number of trials: 10/10 (3 PENDING, 3 RUNNING, 4 TERMINATED)\n",
      "+-------------------+------------+-----------------+--------------+---------------+-------+----------+------------+----------------------+\n",
      "| Trial name        | status     | loc             |   batch_size |   hidden_size |    lr |     loss |   accuracy |   training_iteration |\n",
      "|-------------------+------------+-----------------+--------------+---------------+-------+----------+------------+----------------------|\n",
      "| train_980e3_00002 | RUNNING    | 10.1.0.103:798  |           50 |           500 | 1e-05 | 0.643067 |       0.62 |                    9 |\n",
      "| train_980e3_00005 | RUNNING    | 10.1.0.103:2038 |           50 |           500 | 1e-05 | 0.634295 |       0.62 |                    1 |\n",
      "| train_980e3_00006 | RUNNING    | 10.1.0.103:2849 |          100 |           350 | 0.001 | 0.732249 |       0.56 |                    1 |\n",
      "| train_980e3_00007 | PENDING    |                 |          100 |           200 | 0.1   |          |            |                      |\n",
      "| train_980e3_00008 | PENDING    |                 |           10 |           200 | 0.1   |          |            |                      |\n",
      "| train_980e3_00009 | PENDING    |                 |          100 |           350 | 1e-05 |          |            |                      |\n",
      "| train_980e3_00000 | TERMINATED | 10.1.0.103:501  |           50 |           350 | 1e-05 | 0.84792  |       0.45 |                    1 |\n",
      "| train_980e3_00001 | TERMINATED | 10.1.0.103:536  |           10 |           350 | 0.001 | 0.977765 |       0.25 |                    1 |\n",
      "| train_980e3_00003 | TERMINATED | 10.1.0.103:1074 |           50 |           350 | 0.001 | 0.603375 |       0.66 |                    2 |\n",
      "| train_980e3_00004 | TERMINATED | 10.1.0.103:2037 |           10 |           350 | 0.1   | 0.708381 |       0.54 |                    1 |\n",
      "+-------------------+------------+-----------------+--------------+---------------+-------+----------+------------+----------------------+\n",
      "\n",
      "\n"
     ]
    },
    {
     "name": "stderr",
     "output_type": "stream",
     "text": [
      "2022-04-29 13:17:13,181\tINFO trial_runner.py:803 -- starting train_980e3_00007\n",
      "2022-04-29 13:17:13,226\tINFO trial_runner.py:803 -- starting train_980e3_00008\n"
     ]
    },
    {
     "name": "stdout",
     "output_type": "stream",
     "text": [
      "Result for train_980e3_00005:\n",
      "  accuracy: 0.64\n",
      "  date: 2022-04-29_13-17-13\n",
      "  done: true\n",
      "  experiment_id: b520b0e085574a5bb64589cbef1c8d5b\n",
      "  hostname: jupyter-gianluca-20colangelo\n",
      "  iterations_since_restore: 2\n",
      "  loss: 0.6022040545940399\n",
      "  node_ip: 10.1.0.103\n",
      "  pid: 2038\n",
      "  should_checkpoint: true\n",
      "  time_since_restore: 2.615435838699341\n",
      "  time_this_iter_s: 1.8923532962799072\n",
      "  time_total_s: 2.615435838699341\n",
      "  timestamp: 1651238233\n",
      "  timesteps_since_restore: 0\n",
      "  training_iteration: 2\n",
      "  trial_id: 980e3_00005\n",
      "  warmup_time: 0.0055387020111083984\n",
      "  \n",
      "Result for train_980e3_00002:\n",
      "  accuracy: 0.61\n",
      "  date: 2022-04-29_13-17-13\n",
      "  done: true\n",
      "  experiment_id: 92e1accef7de4c249b38d5b360832e38\n",
      "  hostname: jupyter-gianluca-20colangelo\n",
      "  iterations_since_restore: 10\n",
      "  loss: 0.6364166140556335\n",
      "  node_ip: 10.1.0.103\n",
      "  pid: 798\n",
      "  should_checkpoint: true\n",
      "  time_since_restore: 17.46670937538147\n",
      "  time_this_iter_s: 5.528902530670166\n",
      "  time_total_s: 17.46670937538147\n",
      "  timestamp: 1651238233\n",
      "  timesteps_since_restore: 0\n",
      "  training_iteration: 10\n",
      "  trial_id: 980e3_00002\n",
      "  warmup_time: 0.003976583480834961\n",
      "  \n"
     ]
    },
    {
     "name": "stderr",
     "output_type": "stream",
     "text": [
      "2022-04-29 13:17:15,181\tINFO trial_runner.py:803 -- starting train_980e3_00009\n"
     ]
    },
    {
     "name": "stdout",
     "output_type": "stream",
     "text": [
      "== Status ==\n",
      "Current time: 2022-04-29 13:17:20 (running for 00:00:45.11)\n",
      "Memory usage on this node: 41.8/220.2 GiB\n",
      "Using AsyncHyperBand: num_stopped=7\n",
      "Bracket: Iter 8.000: -0.6599599421024323 | Iter 4.000: -0.49694211781024933 | Iter 2.000: -0.6022040545940399 | Iter 1.000: -0.7083814144134521\n",
      "Resources requested: 6.0/8 CPUs, 0/1 GPUs, 0.0/57.22 GiB heap, 0.0/28.52 GiB objects (0.0/1.0 accelerator_type:V100)\n",
      "Result logdir: /home/jovyan/ray_results/train_2022-04-29_13-16-35\n",
      "Number of trials: 10/10 (3 RUNNING, 7 TERMINATED)\n",
      "+-------------------+------------+-----------------+--------------+---------------+-------+----------+------------+----------------------+\n",
      "| Trial name        | status     | loc             |   batch_size |   hidden_size |    lr |     loss |   accuracy |   training_iteration |\n",
      "|-------------------+------------+-----------------+--------------+---------------+-------+----------+------------+----------------------|\n",
      "| train_980e3_00007 | RUNNING    | 10.1.0.103:4888 |          100 |           200 | 0.1   |          |            |                      |\n",
      "| train_980e3_00008 | RUNNING    | 10.1.0.103:4890 |           10 |           200 | 0.1   |          |            |                      |\n",
      "| train_980e3_00009 | RUNNING    | 10.1.0.103:4900 |          100 |           350 | 1e-05 |          |            |                      |\n",
      "| train_980e3_00000 | TERMINATED | 10.1.0.103:501  |           50 |           350 | 1e-05 | 0.84792  |       0.45 |                    1 |\n",
      "| train_980e3_00001 | TERMINATED | 10.1.0.103:536  |           10 |           350 | 0.001 | 0.977765 |       0.25 |                    1 |\n",
      "| train_980e3_00002 | TERMINATED | 10.1.0.103:798  |           50 |           500 | 1e-05 | 0.636417 |       0.61 |                   10 |\n",
      "| train_980e3_00003 | TERMINATED | 10.1.0.103:1074 |           50 |           350 | 0.001 | 0.603375 |       0.66 |                    2 |\n",
      "| train_980e3_00004 | TERMINATED | 10.1.0.103:2037 |           10 |           350 | 0.1   | 0.708381 |       0.54 |                    1 |\n",
      "| train_980e3_00005 | TERMINATED | 10.1.0.103:2038 |           50 |           500 | 1e-05 | 0.602204 |       0.64 |                    2 |\n",
      "| train_980e3_00006 | TERMINATED | 10.1.0.103:2849 |          100 |           350 | 0.001 | 0.732249 |       0.56 |                    1 |\n",
      "+-------------------+------------+-----------------+--------------+---------------+-------+----------+------------+----------------------+\n",
      "\n",
      "\n",
      "Result for train_980e3_00008:\n",
      "  accuracy: 0.49\n",
      "  date: 2022-04-29_13-17-20\n",
      "  done: true\n",
      "  experiment_id: 5df356fa5ac94e5e87aef5f81320c612\n",
      "  hostname: jupyter-gianluca-20colangelo\n",
      "  iterations_since_restore: 1\n",
      "  loss: 0.7159784376621247\n",
      "  node_ip: 10.1.0.103\n",
      "  pid: 4890\n",
      "  should_checkpoint: true\n",
      "  time_since_restore: 1.0114398002624512\n",
      "  time_this_iter_s: 1.0114398002624512\n",
      "  time_total_s: 1.0114398002624512\n",
      "  timestamp: 1651238240\n",
      "  timesteps_since_restore: 0\n",
      "  training_iteration: 1\n",
      "  trial_id: 980e3_00008\n",
      "  warmup_time: 0.007197380065917969\n",
      "  \n",
      "Result for train_980e3_00007:\n",
      "  accuracy: 0.67\n",
      "  date: 2022-04-29_13-17-20\n",
      "  done: false\n",
      "  experiment_id: 9eb88900c0b14d9cbde04d7a9a5f15e7\n",
      "  hostname: jupyter-gianluca-20colangelo\n",
      "  iterations_since_restore: 1\n",
      "  loss: 0.6131802201271057\n",
      "  node_ip: 10.1.0.103\n",
      "  pid: 4888\n",
      "  should_checkpoint: true\n",
      "  time_since_restore: 0.5225687026977539\n",
      "  time_this_iter_s: 0.5225687026977539\n",
      "  time_total_s: 0.5225687026977539\n",
      "  timestamp: 1651238240\n",
      "  timesteps_since_restore: 0\n",
      "  training_iteration: 1\n",
      "  trial_id: 980e3_00007\n",
      "  warmup_time: 0.005237579345703125\n",
      "  \n",
      "Result for train_980e3_00007:\n",
      "  accuracy: 0.65\n",
      "  date: 2022-04-29_13-17-22\n",
      "  done: true\n",
      "  experiment_id: 9eb88900c0b14d9cbde04d7a9a5f15e7\n",
      "  hostname: jupyter-gianluca-20colangelo\n",
      "  iterations_since_restore: 2\n",
      "  loss: 0.6228410601615906\n",
      "  node_ip: 10.1.0.103\n",
      "  pid: 4888\n",
      "  should_checkpoint: true\n",
      "  time_since_restore: 2.686779022216797\n",
      "  time_this_iter_s: 2.164210319519043\n",
      "  time_total_s: 2.686779022216797\n",
      "  timestamp: 1651238242\n",
      "  timesteps_since_restore: 0\n",
      "  training_iteration: 2\n",
      "  trial_id: 980e3_00007\n",
      "  warmup_time: 0.005237579345703125\n",
      "  \n",
      "Result for train_980e3_00009:\n",
      "  accuracy: 0.54\n",
      "  date: 2022-04-29_13-17-22\n",
      "  done: true\n",
      "  experiment_id: 3227861bc7bc4606bb8459fb9ebad919\n",
      "  hostname: jupyter-gianluca-20colangelo\n",
      "  iterations_since_restore: 1\n",
      "  loss: 0.7670621275901794\n",
      "  node_ip: 10.1.0.103\n",
      "  pid: 4900\n",
      "  should_checkpoint: true\n",
      "  time_since_restore: 0.6245896816253662\n",
      "  time_this_iter_s: 0.6245896816253662\n",
      "  time_total_s: 0.6245896816253662\n",
      "  timestamp: 1651238242\n",
      "  timesteps_since_restore: 0\n",
      "  training_iteration: 1\n",
      "  trial_id: 980e3_00009\n",
      "  warmup_time: 0.004323720932006836\n",
      "  \n",
      "== Status ==\n",
      "Current time: 2022-04-29 13:17:22 (running for 00:00:47.50)\n",
      "Memory usage on this node: 40.9/220.2 GiB\n",
      "Using AsyncHyperBand: num_stopped=10\n",
      "Bracket: Iter 8.000: -0.6599599421024323 | Iter 4.000: -0.49694211781024933 | Iter 2.000: -0.602789506316185 | Iter 1.000: -0.7121799260377883\n",
      "Resources requested: 0/8 CPUs, 0/1 GPUs, 0.0/57.22 GiB heap, 0.0/28.52 GiB objects (0.0/1.0 accelerator_type:V100)\n",
      "Result logdir: /home/jovyan/ray_results/train_2022-04-29_13-16-35\n",
      "Number of trials: 10/10 (10 TERMINATED)\n",
      "+-------------------+------------+-----------------+--------------+---------------+-------+----------+------------+----------------------+\n",
      "| Trial name        | status     | loc             |   batch_size |   hidden_size |    lr |     loss |   accuracy |   training_iteration |\n",
      "|-------------------+------------+-----------------+--------------+---------------+-------+----------+------------+----------------------|\n",
      "| train_980e3_00000 | TERMINATED | 10.1.0.103:501  |           50 |           350 | 1e-05 | 0.84792  |       0.45 |                    1 |\n",
      "| train_980e3_00001 | TERMINATED | 10.1.0.103:536  |           10 |           350 | 0.001 | 0.977765 |       0.25 |                    1 |\n",
      "| train_980e3_00002 | TERMINATED | 10.1.0.103:798  |           50 |           500 | 1e-05 | 0.636417 |       0.61 |                   10 |\n",
      "| train_980e3_00003 | TERMINATED | 10.1.0.103:1074 |           50 |           350 | 0.001 | 0.603375 |       0.66 |                    2 |\n",
      "| train_980e3_00004 | TERMINATED | 10.1.0.103:2037 |           10 |           350 | 0.1   | 0.708381 |       0.54 |                    1 |\n",
      "| train_980e3_00005 | TERMINATED | 10.1.0.103:2038 |           50 |           500 | 1e-05 | 0.602204 |       0.64 |                    2 |\n",
      "| train_980e3_00006 | TERMINATED | 10.1.0.103:2849 |          100 |           350 | 0.001 | 0.732249 |       0.56 |                    1 |\n",
      "| train_980e3_00007 | TERMINATED | 10.1.0.103:4888 |          100 |           200 | 0.1   | 0.622841 |       0.65 |                    2 |\n",
      "| train_980e3_00008 | TERMINATED | 10.1.0.103:4890 |           10 |           200 | 0.1   | 0.715978 |       0.49 |                    1 |\n",
      "| train_980e3_00009 | TERMINATED | 10.1.0.103:4900 |          100 |           350 | 1e-05 | 0.767062 |       0.54 |                    1 |\n",
      "+-------------------+------------+-----------------+--------------+---------------+-------+----------+------------+----------------------+\n",
      "\n",
      "\n"
     ]
    },
    {
     "name": "stderr",
     "output_type": "stream",
     "text": [
      "2022-04-29 13:17:22,722\tINFO tune.py:702 -- Total run time: 47.80 seconds (47.49 seconds for the tuning loop).\n"
     ]
    },
    {
     "name": "stdout",
     "output_type": "stream",
     "text": [
      "Best trial config: {'lr': 1e-05, 'hidden_size': 500, 'batch_size': 50}\n",
      "Best trial final validation loss: 0.6022040545940399\n",
      "Best trial final validation accuracy: 0.64\n",
      "Best trial test set accuracy: 0.6387809616318602\n"
     ]
    }
   ],
   "source": [
    "if __name__ == \"__main__\":\n",
    "    # You can change the number of GPUs per trial here:\n",
    "    main(num_samples=10, max_num_epochs=10, gpus_per_trial=0)"
   ]
  },
  {
   "cell_type": "markdown",
   "id": "cb213b1f-4356-42d6-9f1d-ee72076927b4",
   "metadata": {},
   "source": [
    "So according to the outcome of the tuning process the combination of learning rate = 1e-5, hidden_size = 500 and batch size = 50 is the best possible combination in this case. Of course for simplicity reasons we used only 10 trials and 10 epochs that might have to be modified but this is good enough for the scope of this exercise."
   ]
  },
  {
   "cell_type": "markdown",
   "id": "5c362168-215f-4985-8e1d-00dd864d4936",
   "metadata": {},
   "source": [
    "## Training and testing of the models"
   ]
  },
  {
   "cell_type": "markdown",
   "id": "e2963fe4-2e92-4211-96f8-798497014017",
   "metadata": {},
   "source": [
    "### MLP"
   ]
  },
  {
   "cell_type": "markdown",
   "id": "6bdf455f",
   "metadata": {},
   "source": [
    "In line with the tuning process above we assign the optimal parameters. Note that in [2] the hidden size was set to 500."
   ]
  },
  {
   "cell_type": "code",
   "execution_count": 30,
   "id": "7e185269",
   "metadata": {},
   "outputs": [],
   "source": [
    "hidden_size = 500\n",
    "drop_prob = 0.1\n",
    "learning_rate=1e-5\n",
    "\n",
    "model_params = {\n",
    "                'seq_length': seq_length,\n",
    "                'hidden_size' : hidden_size,\n",
    "                'n_classes' : n_classes,\n",
    "                'drop_prob' : drop_prob   \n",
    "               }\n",
    "\n",
    "model = get_model('mlp', model_params).to(device)"
   ]
  },
  {
   "cell_type": "markdown",
   "id": "d0dad6b0",
   "metadata": {},
   "source": [
    "Structure of the model with the indication of the trainable parmeters that for MLP amount to 764K"
   ]
  },
  {
   "cell_type": "code",
   "execution_count": 31,
   "id": "db2807f7-07fe-47c7-b177-ff34dd2cced1",
   "metadata": {},
   "outputs": [
    {
     "name": "stdout",
     "output_type": "stream",
     "text": [
      "----------------------------------------------------------------\n",
      "        Layer (type)               Output Shape         Param #\n",
      "================================================================\n",
      "           Dropout-1                 [50, 1024]               0\n",
      "            Linear-2                  [50, 500]         512,500\n",
      "              ReLU-3                  [50, 500]               0\n",
      "           Dropout-4                  [50, 500]               0\n",
      "            Linear-5                  [50, 500]         250,500\n",
      "              ReLU-6                  [50, 500]               0\n",
      "           Dropout-7                  [50, 500]               0\n",
      "            Linear-8                    [50, 3]           1,503\n",
      "              ReLU-9                    [50, 3]               0\n",
      "          Dropout-10                    [50, 3]               0\n",
      "================================================================\n",
      "Total params: 764,503\n",
      "Trainable params: 764,503\n",
      "Non-trainable params: 0\n",
      "----------------------------------------------------------------\n",
      "Input size (MB): 0.20\n",
      "Forward/backward pass size (MB): 1.54\n",
      "Params size (MB): 2.92\n",
      "Estimated Total Size (MB): 4.65\n",
      "----------------------------------------------------------------\n"
     ]
    }
   ],
   "source": [
    "summary(model,input_size=(1024, 1),batch_size=batch_size)"
   ]
  },
  {
   "cell_type": "markdown",
   "id": "27c9c06d-b401-4871-88ad-f5426902529a",
   "metadata": {
    "tags": []
   },
   "source": [
    "#### MLP training cycle"
   ]
  },
  {
   "cell_type": "markdown",
   "id": "7f781657",
   "metadata": {},
   "source": [
    "The loss function we use for the whole notebook is the **cross-entropy loss**, while we take **Adam** as an optimizer."
   ]
  },
  {
   "cell_type": "code",
   "execution_count": 32,
   "id": "50274652-5530-411f-a4df-a964b0417187",
   "metadata": {},
   "outputs": [
    {
     "name": "stdout",
     "output_type": "stream",
     "text": [
      "[1/100] Training loss: 1.0768\t Validation loss: 1.0132\n",
      "[2/100] Training loss: 0.9839\t Validation loss: 0.9061\n",
      "[3/100] Training loss: 0.8907\t Validation loss: 0.8128\n",
      "[4/100] Training loss: 0.8295\t Validation loss: 0.7386\n",
      "[5/100] Training loss: 0.7676\t Validation loss: 0.6815\n",
      "[6/100] Training loss: 0.7488\t Validation loss: 0.6374\n",
      "[7/100] Training loss: 0.7229\t Validation loss: 0.6052\n",
      "[8/100] Training loss: 0.7139\t Validation loss: 0.5803\n",
      "[9/100] Training loss: 0.7085\t Validation loss: 0.5600\n",
      "[10/100] Training loss: 0.6689\t Validation loss: 0.5416\n",
      "[50/100] Training loss: 0.6101\t Validation loss: 0.3872\n",
      "[100/100] Training loss: 0.5974\t Validation loss: 0.3632\n"
     ]
    },
    {
     "data": {
      "image/png": "[encoded data removed]",
      "text/plain": [
       "<Figure size 432x288 with 1 Axes>"
      ]
     },
     "metadata": {
      "needs_background": "light"
     },
     "output_type": "display_data"
    }
   ],
   "source": [
    "loss_fn = torch.nn.CrossEntropyLoss()\n",
    "optimizer = optim.Adam(model.parameters(), lr=learning_rate, weight_decay=weight_decay)\n",
    "opt = Optimization(model=model, loss_fn=loss_fn, optimizer=optimizer)\n",
    "opt.train(train_loader, val_loader, batch_size=batch_size, n_epochs=n_epochs, n_features=seq_length)\n",
    "opt.plot_losses()"
   ]
  },
  {
   "cell_type": "markdown",
   "id": "38753858",
   "metadata": {},
   "source": [
    "The model learns well in the first 10-20 epochs. After 20 epochs the loss flattens out both for training and validation set. Note that the validation set seems to be easier to predict than the training. The fact that the validation curve is lower than the training curve might be an indication that the validation set is not representative, not big enough and we might need to extend it."
   ]
  },
  {
   "cell_type": "markdown",
   "id": "ef48e34a-31c9-4034-b135-87d7325f470e",
   "metadata": {},
   "source": [
    "#### MLP performance on training set"
   ]
  },
  {
   "cell_type": "code",
   "execution_count": 33,
   "id": "03d72835-8111-402b-8d89-90f80b7fe841",
   "metadata": {},
   "outputs": [
    {
     "name": "stdout",
     "output_type": "stream",
     "text": [
      "Accuracy of  MLPModel(\n",
      "  (dropout): Dropout(p=0.1, inplace=False)\n",
      "  (fc1): Linear(in_features=1024, out_features=500, bias=True)\n",
      "  (relu1): ReLU()\n",
      "  (dropout1): Dropout(p=0.2, inplace=False)\n",
      "  (fc2): Linear(in_features=500, out_features=500, bias=True)\n",
      "  (relu2): ReLU()\n",
      "  (dropout2): Dropout(p=0.2, inplace=False)\n",
      "  (fc3): Linear(in_features=500, out_features=3, bias=True)\n",
      "  (relu3): ReLU()\n",
      "  (dropout3): Dropout(p=0.30000000000000004, inplace=False)\n",
      ")  : 86.56 %\n",
      "Correct :  779 Total :  900\n"
     ]
    }
   ],
   "source": [
    "predictions, values = opt.evaluate(train_loader, batch_size=batch_size, n_features=seq_length)"
   ]
  },
  {
   "cell_type": "code",
   "execution_count": 34,
   "id": "82999e31-06f9-416d-bac4-3c3b6bc64707",
   "metadata": {
    "tags": []
   },
   "outputs": [
    {
     "name": "stdout",
     "output_type": "stream",
     "text": [
      "              precision    recall  f1-score   support\n",
      "\n",
      "           0       0.84      0.15      0.26       138\n",
      "           1       1.00      1.00      1.00       248\n",
      "           2       0.81      0.99      0.89       514\n",
      "\n",
      "    accuracy                           0.87       900\n",
      "   macro avg       0.88      0.71      0.72       900\n",
      "weighted avg       0.87      0.87      0.83       900\n",
      "\n"
     ]
    },
    {
     "data": {
      "text/plain": [
       "array([[ 21,   0, 117],\n",
       "       [  0, 248,   0],\n",
       "       [  4,   0, 510]])"
      ]
     },
     "execution_count": 34,
     "metadata": {},
     "output_type": "execute_result"
    }
   ],
   "source": [
    "print(classification_report(np.concatenate(values).ravel(), np.concatenate(predictions).ravel()))\n",
    "confusion_matrix(np.concatenate(values).ravel(), np.concatenate(predictions).ravel())"
   ]
  },
  {
   "cell_type": "markdown",
   "id": "879ad865-03cb-437b-b488-0f2aa549a97e",
   "metadata": {},
   "source": [
    "#### MLP performance on testing set "
   ]
  },
  {
   "cell_type": "code",
   "execution_count": 35,
   "id": "82c61a4e-f6e2-468f-bfdc-adfdcf89300e",
   "metadata": {},
   "outputs": [
    {
     "name": "stdout",
     "output_type": "stream",
     "text": [
      "Accuracy of  MLPModel(\n",
      "  (dropout): Dropout(p=0.1, inplace=False)\n",
      "  (fc1): Linear(in_features=1024, out_features=500, bias=True)\n",
      "  (relu1): ReLU()\n",
      "  (dropout1): Dropout(p=0.2, inplace=False)\n",
      "  (fc2): Linear(in_features=500, out_features=500, bias=True)\n",
      "  (relu2): ReLU()\n",
      "  (dropout2): Dropout(p=0.2, inplace=False)\n",
      "  (fc3): Linear(in_features=500, out_features=3, bias=True)\n",
      "  (relu3): ReLU()\n",
      "  (dropout3): Dropout(p=0.30000000000000004, inplace=False)\n",
      ")  : 86.44 %\n",
      "Correct :  7088 Total :  8200\n"
     ]
    }
   ],
   "source": [
    "predictions, values = opt.evaluate(test_loader, batch_size=batch_size, n_features=seq_length)"
   ]
  },
  {
   "cell_type": "code",
   "execution_count": 36,
   "id": "1e93434f",
   "metadata": {},
   "outputs": [
    {
     "name": "stdout",
     "output_type": "stream",
     "text": [
      "              precision    recall  f1-score   support\n",
      "\n",
      "           0       0.66      0.11      0.19      1172\n",
      "           1       1.00      1.00      1.00      2295\n",
      "           2       0.82      0.98      0.89      4733\n",
      "\n",
      "    accuracy                           0.86      8200\n",
      "   macro avg       0.82      0.70      0.70      8200\n",
      "weighted avg       0.85      0.86      0.82      8200\n",
      "\n"
     ]
    },
    {
     "data": {
      "text/plain": [
       "array([[ 133,    2, 1037],\n",
       "       [   0, 2293,    2],\n",
       "       [  69,    2, 4662]])"
      ]
     },
     "execution_count": 36,
     "metadata": {},
     "output_type": "execute_result"
    }
   ],
   "source": [
    "print(classification_report(np.concatenate(values).ravel(), np.concatenate(predictions).ravel()))\n",
    "confusion_matrix(np.concatenate(values).ravel(), np.concatenate(predictions).ravel())"
   ]
  },
  {
   "cell_type": "markdown",
   "id": "784a6652",
   "metadata": {},
   "source": [
    "Looking at the very close accuracy measured on the training and testing sets we can say that we are certainly not overfitting.\n",
    "\n",
    "Note that one of the class (1) is very clearly separable from the others while the other are easily mixed up. In particular, class 0 shows the poorer precision and recall performance, being easily confused with class 2.\n",
    "\n",
    "Finally comparing the performance of our model with the one documented in [2] in which Adadelta, an adaptive learning rate method, is used as an optimizer, we actually see that our error rate is ~ 7% higher. This means that indeed we have room to improve our model. Without changing the optimizer we could review our hyper-parameters tuning process and choose a better combination of the parameters. "
   ]
  },
  {
   "cell_type": "markdown",
   "id": "ba2d5ead-8512-48df-ad76-695d4af92130",
   "metadata": {},
   "source": [
    "### LSTM"
   ]
  },
  {
   "cell_type": "markdown",
   "id": "87fe8b39",
   "metadata": {},
   "source": [
    "LSTM-specific parameter definition. We decide to set the hidden size of LSTM to 128."
   ]
  },
  {
   "cell_type": "code",
   "execution_count": 37,
   "id": "4c87a4ed",
   "metadata": {},
   "outputs": [],
   "source": [
    "hidden_size = 128\n",
    "n_layers = 1\n",
    "drop_prob = 0\n",
    "\n",
    "model_params = {'input_size': input_size,\n",
    "                'hidden_size' : hidden_size,\n",
    "                'n_layers' : n_layers,\n",
    "                'n_classes' : n_classes,\n",
    "                'drop_prob' : drop_prob}\n",
    "\n",
    "model = get_model('lstm', model_params).to(device)"
   ]
  },
  {
   "cell_type": "markdown",
   "id": "a321895d-1cfb-4d7b-b853-23ca0dbb3e31",
   "metadata": {},
   "source": [
    "#### LSTM training cycle"
   ]
  },
  {
   "cell_type": "code",
   "execution_count": 38,
   "id": "5c14bdb9-5dfc-44ee-ba5c-2c0b18635dc1",
   "metadata": {},
   "outputs": [
    {
     "name": "stdout",
     "output_type": "stream",
     "text": [
      "Number of trainable parameters for our LSTM model :  67459\n"
     ]
    }
   ],
   "source": [
    "model_parameters = filter(lambda p: p.requires_grad, model.parameters())\n",
    "params = sum([np.prod(p.size()) for p in model_parameters])\n",
    "print (\"Number of trainable parameters for our LSTM model : \", params)"
   ]
  },
  {
   "cell_type": "code",
   "execution_count": 39,
   "id": "7116ba59-a8eb-4d93-9df5-4ece53b398e5",
   "metadata": {},
   "outputs": [
    {
     "name": "stdout",
     "output_type": "stream",
     "text": [
      "[1/100] Training loss: 1.0729\t Validation loss: 1.0699\n",
      "[2/100] Training loss: 1.0713\t Validation loss: 1.0682\n",
      "[3/100] Training loss: 1.0696\t Validation loss: 1.0664\n",
      "[4/100] Training loss: 1.0679\t Validation loss: 1.0647\n",
      "[5/100] Training loss: 1.0663\t Validation loss: 1.0629\n",
      "[6/100] Training loss: 1.0646\t Validation loss: 1.0612\n",
      "[7/100] Training loss: 1.0630\t Validation loss: 1.0594\n",
      "[8/100] Training loss: 1.0613\t Validation loss: 1.0577\n",
      "[9/100] Training loss: 1.0597\t Validation loss: 1.0559\n",
      "[10/100] Training loss: 1.0580\t Validation loss: 1.0542\n",
      "[50/100] Training loss: 0.7804\t Validation loss: 0.7590\n",
      "[100/100] Training loss: 0.5890\t Validation loss: 0.5564\n"
     ]
    },
    {
     "data": {
      "image/png": "[encoded data removed]",
      "text/plain": [
       "<Figure size 432x288 with 1 Axes>"
      ]
     },
     "metadata": {
      "needs_background": "light"
     },
     "output_type": "display_data"
    }
   ],
   "source": [
    "loss_fn = torch.nn.CrossEntropyLoss()\n",
    "#loss_fn = nn.NLLLoss()\n",
    "optimizer = optim.Adam(model.parameters(), lr=learning_rate, weight_decay=weight_decay)\n",
    "opt = Optimization(model=model, loss_fn=loss_fn, optimizer=optimizer)\n",
    "opt.train(train_loader, val_loader, batch_size=batch_size, n_epochs=n_epochs, n_features=input_size)\n",
    "opt.plot_losses()"
   ]
  },
  {
   "cell_type": "markdown",
   "id": "f7a05188",
   "metadata": {},
   "source": [
    "The shape of the loss curve is quite interesting. What we see in fact is that in the first 40 epochs the learning is extremely slow. After that the loss drops suddenly and keeps on dropping at a good rate even at later epochs.\n",
    "\n",
    "The model has not learned enough and it is probably underfitting. Probably the learning process stopped prematurely. We conclude that it would certainly benefit from a higher learning rate or an increased number of epochs."
   ]
  },
  {
   "cell_type": "markdown",
   "id": "fc678937-b8d8-44ca-8c24-deed77ac3e0d",
   "metadata": {},
   "source": [
    "#### LSTM performance on training set"
   ]
  },
  {
   "cell_type": "code",
   "execution_count": 40,
   "id": "b9715472-a67b-436d-9bea-05581ae4cbd3",
   "metadata": {
    "tags": []
   },
   "outputs": [
    {
     "name": "stdout",
     "output_type": "stream",
     "text": [
      "Accuracy of  LSTMModel(\n",
      "  (lstm): LSTM(1, 128, batch_first=True)\n",
      "  (fc): Linear(in_features=128, out_features=3, bias=True)\n",
      ")  : 79.56 %\n",
      "Correct :  716 Total :  900\n"
     ]
    }
   ],
   "source": [
    "predictions, values = opt.evaluate(train_loader, batch_size=batch_size, n_features=input_size)"
   ]
  },
  {
   "cell_type": "code",
   "execution_count": 41,
   "id": "072a0c11-4634-4cd1-8652-e4f8e62a7b4b",
   "metadata": {
    "tags": []
   },
   "outputs": [
    {
     "name": "stdout",
     "output_type": "stream",
     "text": [
      "              precision    recall  f1-score   support\n",
      "\n",
      "           0       0.00      0.00      0.00       138\n",
      "           1       0.81      0.98      0.89       248\n",
      "           2       0.79      0.92      0.85       514\n",
      "\n",
      "    accuracy                           0.80       900\n",
      "   macro avg       0.53      0.63      0.58       900\n",
      "weighted avg       0.67      0.80      0.73       900\n",
      "\n"
     ]
    },
    {
     "name": "stderr",
     "output_type": "stream",
     "text": [
      "/usr/local/lib/python3.7/site-packages/sklearn/metrics/_classification.py:1308: UndefinedMetricWarning: Precision and F-score are ill-defined and being set to 0.0 in labels with no predicted samples. Use `zero_division` parameter to control this behavior.\n",
      "  _warn_prf(average, modifier, msg_start, len(result))\n",
      "/usr/local/lib/python3.7/site-packages/sklearn/metrics/_classification.py:1308: UndefinedMetricWarning: Precision and F-score are ill-defined and being set to 0.0 in labels with no predicted samples. Use `zero_division` parameter to control this behavior.\n",
      "  _warn_prf(average, modifier, msg_start, len(result))\n",
      "/usr/local/lib/python3.7/site-packages/sklearn/metrics/_classification.py:1308: UndefinedMetricWarning: Precision and F-score are ill-defined and being set to 0.0 in labels with no predicted samples. Use `zero_division` parameter to control this behavior.\n",
      "  _warn_prf(average, modifier, msg_start, len(result))\n"
     ]
    },
    {
     "data": {
      "text/plain": [
       "array([[  0,  16, 122],\n",
       "       [  0, 243,   5],\n",
       "       [  0,  41, 473]])"
      ]
     },
     "execution_count": 41,
     "metadata": {},
     "output_type": "execute_result"
    }
   ],
   "source": [
    "print(classification_report(np.concatenate(values).ravel(), np.concatenate(predictions).ravel()))\n",
    "confusion_matrix(np.concatenate(values).ravel(), np.concatenate(predictions).ravel())"
   ]
  },
  {
   "cell_type": "markdown",
   "id": "13c7155f-f53f-43c0-bfc3-01c820f87920",
   "metadata": {},
   "source": [
    "#### LSTM performance on testing set"
   ]
  },
  {
   "cell_type": "code",
   "execution_count": 42,
   "id": "45985dc1",
   "metadata": {},
   "outputs": [
    {
     "name": "stdout",
     "output_type": "stream",
     "text": [
      "Accuracy of  LSTMModel(\n",
      "  (lstm): LSTM(1, 128, batch_first=True)\n",
      "  (fc): Linear(in_features=128, out_features=3, bias=True)\n",
      ")  : 80.74 %\n",
      "Correct :  6621 Total :  8200\n"
     ]
    }
   ],
   "source": [
    "predictions, values = opt.evaluate(test_loader, batch_size=batch_size, n_features=input_size)"
   ]
  },
  {
   "cell_type": "code",
   "execution_count": 43,
   "id": "4ce09640-c1dd-4089-91c7-3560f54fa405",
   "metadata": {},
   "outputs": [
    {
     "name": "stdout",
     "output_type": "stream",
     "text": [
      "              precision    recall  f1-score   support\n",
      "\n",
      "           0       0.00      0.00      0.00      1172\n",
      "           1       0.81      0.98      0.89      2295\n",
      "           2       0.81      0.92      0.86      4733\n",
      "\n",
      "    accuracy                           0.81      8200\n",
      "   macro avg       0.54      0.63      0.58      8200\n",
      "weighted avg       0.69      0.81      0.75      8200\n",
      "\n"
     ]
    },
    {
     "name": "stderr",
     "output_type": "stream",
     "text": [
      "/usr/local/lib/python3.7/site-packages/sklearn/metrics/_classification.py:1308: UndefinedMetricWarning: Precision and F-score are ill-defined and being set to 0.0 in labels with no predicted samples. Use `zero_division` parameter to control this behavior.\n",
      "  _warn_prf(average, modifier, msg_start, len(result))\n",
      "/usr/local/lib/python3.7/site-packages/sklearn/metrics/_classification.py:1308: UndefinedMetricWarning: Precision and F-score are ill-defined and being set to 0.0 in labels with no predicted samples. Use `zero_division` parameter to control this behavior.\n",
      "  _warn_prf(average, modifier, msg_start, len(result))\n",
      "/usr/local/lib/python3.7/site-packages/sklearn/metrics/_classification.py:1308: UndefinedMetricWarning: Precision and F-score are ill-defined and being set to 0.0 in labels with no predicted samples. Use `zero_division` parameter to control this behavior.\n",
      "  _warn_prf(average, modifier, msg_start, len(result))\n"
     ]
    },
    {
     "data": {
      "text/plain": [
       "array([[   0,  173,  999],\n",
       "       [   0, 2253,   42],\n",
       "       [   0,  365, 4368]])"
      ]
     },
     "execution_count": 43,
     "metadata": {},
     "output_type": "execute_result"
    }
   ],
   "source": [
    "print(classification_report(np.concatenate(values).ravel(), np.concatenate(predictions).ravel()))\n",
    "confusion_matrix(np.concatenate(values).ravel(), np.concatenate(predictions).ravel())"
   ]
  },
  {
   "cell_type": "markdown",
   "id": "643e8563",
   "metadata": {},
   "source": [
    "The accuracy on the testing set is similar to the one on the training set actually even slightly higher. What is strange is that the model is not able to detect class 0 at all. If we applied a Softmax layer on the model output then class 0 would be detected but strangely enough accuracy would drop by 10%. For the fact previously mentioned that CrossEntropyLoss already implies a SoftMax calculation, we actually decided to remove that layer.\n",
    "\n",
    "Also here a tuning of the hyper-parameters used would be required."
   ]
  },
  {
   "cell_type": "markdown",
   "id": "3aeb0113-87a4-4bfd-b739-c84b101711f8",
   "metadata": {},
   "source": [
    "### CNN"
   ]
  },
  {
   "cell_type": "markdown",
   "id": "cf24fcb5",
   "metadata": {},
   "source": [
    "CNN-specific parameter setting. In comparison to what was recommended in [1] we increased the number of filters from (6, 12) to (32, 64). With (6, 12) like in the LSTM case, class 0 is not detected. Increasing the number of filters improved the class-0 detection capabilities.\n",
    "\n",
    "Number of filters would be an excellent parameter to give as an input to Ray Tuner. "
   ]
  },
  {
   "cell_type": "code",
   "execution_count": 44,
   "id": "29352f76",
   "metadata": {},
   "outputs": [],
   "source": [
    "conv_filters = 32\n",
    "conv_filters2 = 64\n",
    "conv_filter_size = 7\n",
    "num_units_fc = 50\n",
    "\n",
    "drop_prob = 0\n",
    "\n",
    "model_params = {\n",
    "    'conv_filters': conv_filters,\n",
    "    'conv_filters2' : conv_filters2,\n",
    "    'conv_filter_size' : conv_filter_size,\n",
    "    'num_units_fc' : num_units_fc\n",
    "}\n",
    "\n",
    "model = get_model('cnn', model_params).to(device)"
   ]
  },
  {
   "cell_type": "code",
   "execution_count": 45,
   "id": "358bee1f-e276-48fc-a9a8-1515394cf0ac",
   "metadata": {
    "tags": []
   },
   "outputs": [
    {
     "name": "stdout",
     "output_type": "stream",
     "text": [
      "----------------------------------------------------------------\n",
      "        Layer (type)               Output Shape         Param #\n",
      "================================================================\n",
      "            Conv1d-1             [50, 32, 1018]             256\n",
      "         MaxPool1d-2              [50, 32, 509]               0\n",
      "            Conv1d-3              [50, 64, 503]          14,400\n",
      "         MaxPool1d-4              [50, 64, 251]               0\n",
      "            Linear-5                   [50, 50]         803,250\n",
      "            Linear-6                    [50, 3]             153\n",
      "================================================================\n",
      "Total params: 818,059\n",
      "Trainable params: 818,059\n",
      "Non-trainable params: 0\n",
      "----------------------------------------------------------------\n",
      "Input size (MB): 0.20\n",
      "Forward/backward pass size (MB): 37.07\n",
      "Params size (MB): 3.12\n",
      "Estimated Total Size (MB): 40.38\n",
      "----------------------------------------------------------------\n"
     ]
    }
   ],
   "source": [
    "summary(model,input_size=(1024, 1),batch_size=batch_size)"
   ]
  },
  {
   "cell_type": "markdown",
   "id": "656e10de-c996-4337-921a-64dc15c1efc6",
   "metadata": {
    "tags": []
   },
   "source": [
    "#### CNN training cycle"
   ]
  },
  {
   "cell_type": "code",
   "execution_count": 46,
   "id": "f83ac9e4-3a0f-4f5e-a13a-da388045051d",
   "metadata": {},
   "outputs": [
    {
     "name": "stdout",
     "output_type": "stream",
     "text": [
      "[1/100] Training loss: 0.9800\t Validation loss: 0.8534\n",
      "[2/100] Training loss: 0.7554\t Validation loss: 0.6505\n",
      "[3/100] Training loss: 0.5885\t Validation loss: 0.5277\n",
      "[4/100] Training loss: 0.4873\t Validation loss: 0.4560\n",
      "[5/100] Training loss: 0.4271\t Validation loss: 0.4165\n",
      "[6/100] Training loss: 0.3935\t Validation loss: 0.3923\n",
      "[7/100] Training loss: 0.3728\t Validation loss: 0.3758\n",
      "[8/100] Training loss: 0.3591\t Validation loss: 0.3641\n",
      "[9/100] Training loss: 0.3495\t Validation loss: 0.3555\n",
      "[10/100] Training loss: 0.3420\t Validation loss: 0.3477\n",
      "[50/100] Training loss: 0.2837\t Validation loss: 0.2783\n",
      "[100/100] Training loss: 0.2510\t Validation loss: 0.2340\n"
     ]
    },
    {
     "data": {
      "image/png": "[encoded data removed]",
      "text/plain": [
       "<Figure size 432x288 with 1 Axes>"
      ]
     },
     "metadata": {
      "needs_background": "light"
     },
     "output_type": "display_data"
    }
   ],
   "source": [
    "loss_fn = torch.nn.CrossEntropyLoss()\n",
    "optimizer = optim.Adam(model.parameters(), lr=learning_rate, weight_decay=weight_decay)\n",
    "\n",
    "opt = Optimization(model=model, loss_fn=loss_fn, optimizer=optimizer)\n",
    "opt.train(train_loader, val_loader, batch_size=batch_size, n_epochs=n_epochs, n_features=input_size)\n",
    "opt.plot_losses()"
   ]
  },
  {
   "cell_type": "markdown",
   "id": "02e64154",
   "metadata": {},
   "source": [
    "In this case the loss on the training data set goes down very rapidly for about 10 epochs and then tend to flatten out even if continue a slow descent. Very similar behaviour happens on the validation set. This means that we have not reached a stage of overfitting. Actually the learning curve has almost an ideal shape."
   ]
  },
  {
   "cell_type": "markdown",
   "id": "64acdc59-c18d-49d4-b6be-b60be45ceec2",
   "metadata": {},
   "source": [
    "#### CNN performance on training set"
   ]
  },
  {
   "cell_type": "code",
   "execution_count": 47,
   "id": "6ec976f3-87a2-4bd5-91a5-6d51d1e33962",
   "metadata": {
    "tags": []
   },
   "outputs": [
    {
     "name": "stdout",
     "output_type": "stream",
     "text": [
      "Accuracy of  CNNModel(\n",
      "  (conv1): Conv1d(1, 32, kernel_size=(7,), stride=(1,))\n",
      "  (max_pool): MaxPool1d(kernel_size=2, stride=2, padding=0, dilation=1, ceil_mode=False)\n",
      "  (conv2): Conv1d(32, 64, kernel_size=(7,), stride=(1,))\n",
      "  (max_pool2): MaxPool1d(kernel_size=2, stride=2, padding=0, dilation=1, ceil_mode=False)\n",
      "  (fc): Linear(in_features=16064, out_features=50, bias=True)\n",
      "  (out): Linear(in_features=50, out_features=3, bias=True)\n",
      ")  : 87.67 %\n",
      "Correct :  789 Total :  900\n"
     ]
    }
   ],
   "source": [
    "predictions, values = opt.evaluate(train_loader, batch_size=batch_size, n_features=seq_length)"
   ]
  },
  {
   "cell_type": "code",
   "execution_count": 48,
   "id": "6dba6e75-7042-46b3-9492-6d429c1d899f",
   "metadata": {
    "tags": []
   },
   "outputs": [
    {
     "name": "stdout",
     "output_type": "stream",
     "text": [
      "              precision    recall  f1-score   support\n",
      "\n",
      "           0       0.75      0.29      0.42       138\n",
      "           1       1.00      1.00      1.00       248\n",
      "           2       0.84      0.97      0.90       514\n",
      "\n",
      "    accuracy                           0.88       900\n",
      "   macro avg       0.86      0.75      0.77       900\n",
      "weighted avg       0.87      0.88      0.85       900\n",
      "\n"
     ]
    },
    {
     "data": {
      "text/plain": [
       "array([[ 40,   0,  98],\n",
       "       [  0, 248,   0],\n",
       "       [ 13,   0, 501]])"
      ]
     },
     "execution_count": 48,
     "metadata": {},
     "output_type": "execute_result"
    }
   ],
   "source": [
    "print(classification_report(np.concatenate(values).ravel(), np.concatenate(predictions).ravel()))\n",
    "confusion_matrix(np.concatenate(values).ravel(), np.concatenate(predictions).ravel())"
   ]
  },
  {
   "cell_type": "markdown",
   "id": "f3627f04-a65f-4834-86db-15166aa19087",
   "metadata": {},
   "source": [
    "#### CNN performance on testing set"
   ]
  },
  {
   "cell_type": "code",
   "execution_count": 49,
   "id": "99523f18-d54e-40c6-9da4-e1e324007d9a",
   "metadata": {},
   "outputs": [
    {
     "name": "stdout",
     "output_type": "stream",
     "text": [
      "Accuracy of  CNNModel(\n",
      "  (conv1): Conv1d(1, 32, kernel_size=(7,), stride=(1,))\n",
      "  (max_pool): MaxPool1d(kernel_size=2, stride=2, padding=0, dilation=1, ceil_mode=False)\n",
      "  (conv2): Conv1d(32, 64, kernel_size=(7,), stride=(1,))\n",
      "  (max_pool2): MaxPool1d(kernel_size=2, stride=2, padding=0, dilation=1, ceil_mode=False)\n",
      "  (fc): Linear(in_features=16064, out_features=50, bias=True)\n",
      "  (out): Linear(in_features=50, out_features=3, bias=True)\n",
      ")  : 86.06 %\n",
      "Correct :  7057 Total :  8200\n"
     ]
    }
   ],
   "source": [
    "predictions, values = opt.evaluate(test_loader, batch_size=batch_size, n_features=input_size)"
   ]
  },
  {
   "cell_type": "code",
   "execution_count": 50,
   "id": "0eb1b453-e21f-4d04-b351-dc211d06bd5b",
   "metadata": {
    "tags": []
   },
   "outputs": [
    {
     "name": "stdout",
     "output_type": "stream",
     "text": [
      "              precision    recall  f1-score   support\n",
      "\n",
      "           0       0.55      0.20      0.30      1172\n",
      "           1       0.99      1.00      1.00      2295\n",
      "           2       0.83      0.96      0.89      4733\n",
      "\n",
      "    accuracy                           0.86      8200\n",
      "   macro avg       0.79      0.72      0.73      8200\n",
      "weighted avg       0.84      0.86      0.83      8200\n",
      "\n"
     ]
    },
    {
     "data": {
      "text/plain": [
       "array([[ 239,    3,  930],\n",
       "       [   2, 2290,    3],\n",
       "       [ 196,    9, 4528]])"
      ]
     },
     "execution_count": 50,
     "metadata": {},
     "output_type": "execute_result"
    }
   ],
   "source": [
    "print(classification_report(np.concatenate(values).ravel(), np.concatenate(predictions).ravel()))\n",
    "confusion_matrix(np.concatenate(values).ravel(), np.concatenate(predictions).ravel())"
   ]
  },
  {
   "cell_type": "markdown",
   "id": "e93c60fa",
   "metadata": {},
   "source": [
    "The performance on the testing set is only 1% lower than on the training set. Increasing the number of filters would probably improve further the accuracy of the model and also the ability to detect more precisely class 0 (precision and recall). Again something to be tuned with the help of Ray Tuner."
   ]
  },
  {
   "cell_type": "markdown",
   "id": "d8e993ee-6fea-4410-b98b-277b61919cbe",
   "metadata": {},
   "source": [
    "### ResNet"
   ]
  },
  {
   "cell_type": "markdown",
   "id": "b61aaffb",
   "metadata": {},
   "source": [
    "ResNet-specific parameter settings"
   ]
  },
  {
   "cell_type": "code",
   "execution_count": 25,
   "id": "f3a5a44a-bf36-4421-8e3b-7976a674fca7",
   "metadata": {},
   "outputs": [
    {
     "name": "stdout",
     "output_type": "stream",
     "text": [
      "ResBlock(\n",
      "  (convblock1): Sequential(\n",
      "    (0): Conv1d(128, 128, kernel_size=(7,), stride=(1,), padding=(3,))\n",
      "    (1): BatchNorm1d(128, eps=1e-05, momentum=0.1, affine=True, track_running_stats=True)\n",
      "    (2): ReLU()\n",
      "  )\n",
      "  (convblock2): Sequential(\n",
      "    (0): Conv1d(128, 128, kernel_size=(5,), stride=(1,), padding=(2,))\n",
      "    (1): BatchNorm1d(128, eps=1e-05, momentum=0.1, affine=True, track_running_stats=True)\n",
      "    (2): ReLU()\n",
      "  )\n",
      "  (convblock3): Sequential(\n",
      "    (0): Conv1d(128, 128, kernel_size=(3,), stride=(1,), padding=(1,))\n",
      "    (1): BatchNorm1d(128, eps=1e-05, momentum=0.1, affine=True, track_running_stats=True)\n",
      "    (2): ReLU()\n",
      "  )\n",
      "  (shortcut): Sequential()\n",
      "  (act): ReLU()\n",
      ")\n",
      "AdaptiveAvgPool1d(output_size=1)\n",
      "Linear(in_features=128, out_features=3, bias=True)\n"
     ]
    }
   ],
   "source": [
    "conv_filters=64\n",
    "drop_prob = 0\n",
    "\n",
    "model_params = {'in_channels': input_size,\n",
    "                'mid_channels' : conv_filters,\n",
    "                'num_pred_classes' : n_classes\n",
    "               }\n",
    "\n",
    "model = get_model('resnet', model_params).to(device)"
   ]
  },
  {
   "cell_type": "code",
   "execution_count": 26,
   "id": "edb7fadd-28ac-46e9-ab19-7f8c2d845533",
   "metadata": {},
   "outputs": [
    {
     "name": "stdout",
     "output_type": "stream",
     "text": [
      "----------------------------------------------------------------\n",
      "        Layer (type)               Output Shape         Param #\n",
      "================================================================\n",
      "            Conv1d-1             [50, 64, 1024]             512\n",
      "       BatchNorm1d-2             [50, 64, 1024]             128\n",
      "              ReLU-3             [50, 64, 1024]               0\n",
      "            Conv1d-4             [50, 64, 1024]          20,544\n",
      "       BatchNorm1d-5             [50, 64, 1024]             128\n",
      "              ReLU-6             [50, 64, 1024]               0\n",
      "            Conv1d-7             [50, 64, 1024]          12,352\n",
      "       BatchNorm1d-8             [50, 64, 1024]             128\n",
      "              ReLU-9             [50, 64, 1024]               0\n",
      "           Conv1d-10             [50, 64, 1024]             128\n",
      "      BatchNorm1d-11             [50, 64, 1024]             128\n",
      "             ReLU-12             [50, 64, 1024]               0\n",
      "         ResBlock-13             [50, 64, 1024]               0\n",
      "           Conv1d-14            [50, 128, 1024]          57,472\n",
      "      BatchNorm1d-15            [50, 128, 1024]             256\n",
      "             ReLU-16            [50, 128, 1024]               0\n",
      "           Conv1d-17            [50, 128, 1024]          82,048\n",
      "      BatchNorm1d-18            [50, 128, 1024]             256\n",
      "             ReLU-19            [50, 128, 1024]               0\n",
      "           Conv1d-20            [50, 128, 1024]          49,280\n",
      "      BatchNorm1d-21            [50, 128, 1024]             256\n",
      "             ReLU-22            [50, 128, 1024]               0\n",
      "           Conv1d-23            [50, 128, 1024]           8,320\n",
      "      BatchNorm1d-24            [50, 128, 1024]             256\n",
      "             ReLU-25            [50, 128, 1024]               0\n",
      "         ResBlock-26            [50, 128, 1024]               0\n",
      "           Conv1d-27            [50, 128, 1024]         114,816\n",
      "      BatchNorm1d-28            [50, 128, 1024]             256\n",
      "             ReLU-29            [50, 128, 1024]               0\n",
      "           Conv1d-30            [50, 128, 1024]          82,048\n",
      "      BatchNorm1d-31            [50, 128, 1024]             256\n",
      "             ReLU-32            [50, 128, 1024]               0\n",
      "           Conv1d-33            [50, 128, 1024]          49,280\n",
      "      BatchNorm1d-34            [50, 128, 1024]             256\n",
      "             ReLU-35            [50, 128, 1024]               0\n",
      "             ReLU-36            [50, 128, 1024]               0\n",
      "         ResBlock-37            [50, 128, 1024]               0\n",
      "AdaptiveAvgPool1d-38               [50, 128, 1]               0\n",
      "           Linear-39                    [50, 3]             387\n",
      "================================================================\n",
      "Total params: 479,491\n",
      "Trainable params: 479,491\n",
      "Non-trainable params: 0\n",
      "----------------------------------------------------------------\n",
      "Input size (MB): 0.20\n",
      "Forward/backward pass size (MB): 1525.05\n",
      "Params size (MB): 1.83\n",
      "Estimated Total Size (MB): 1527.07\n",
      "----------------------------------------------------------------\n"
     ]
    }
   ],
   "source": [
    "summary(model,input_size=(1024, 1),batch_size=batch_size)"
   ]
  },
  {
   "cell_type": "markdown",
   "id": "7f98b241-97c8-433a-9b1f-c6ad76c49029",
   "metadata": {
    "tags": []
   },
   "source": [
    "#### ResNet training cycle"
   ]
  },
  {
   "cell_type": "code",
   "execution_count": 53,
   "id": "263d8df2-3b29-4979-8acd-f3b4be920eaf",
   "metadata": {},
   "outputs": [
    {
     "name": "stdout",
     "output_type": "stream",
     "text": [
      "[1/100] Training loss: 0.8791\t Validation loss: 1.0000\n",
      "[2/100] Training loss: 0.6803\t Validation loss: 0.7728\n",
      "[3/100] Training loss: 0.5899\t Validation loss: 0.5826\n",
      "[4/100] Training loss: 0.5369\t Validation loss: 0.5035\n",
      "[5/100] Training loss: 0.5020\t Validation loss: 0.4578\n",
      "[6/100] Training loss: 0.4766\t Validation loss: 0.4322\n",
      "[7/100] Training loss: 0.4563\t Validation loss: 0.4162\n",
      "[8/100] Training loss: 0.4386\t Validation loss: 0.4022\n",
      "[9/100] Training loss: 0.4215\t Validation loss: 0.3889\n",
      "[10/100] Training loss: 0.4046\t Validation loss: 0.3750\n",
      "[50/100] Training loss: 0.1936\t Validation loss: 0.1477\n",
      "[100/100] Training loss: 0.1282\t Validation loss: 0.1042\n"
     ]
    },
    {
     "data": {
      "image/png": "[encoded data removed]",
      "text/plain": [
       "<Figure size 432x288 with 1 Axes>"
      ]
     },
     "metadata": {
      "needs_background": "light"
     },
     "output_type": "display_data"
    }
   ],
   "source": [
    "loss_fn = torch.nn.CrossEntropyLoss()\n",
    "optimizer = optim.Adam(model.parameters(), lr=learning_rate, weight_decay=weight_decay)\n",
    "\n",
    "opt = Optimization(model=model, loss_fn=loss_fn, optimizer=optimizer)\n",
    "opt.train(train_loader, val_loader, batch_size=batch_size, n_epochs=n_epochs, n_features=input_size)\n",
    "opt.plot_losses()"
   ]
  },
  {
   "cell_type": "markdown",
   "id": "1b240813",
   "metadata": {},
   "source": [
    "The loss curve show an excellent decreasing shape for all the epochs on both the training and validation set. Only towards the last epochs the validation curve small signs of swinging. This shows that we have probably learned everything we could."
   ]
  },
  {
   "cell_type": "markdown",
   "id": "3846f90d-ac8f-4890-99b3-b0ce0fe9752f",
   "metadata": {},
   "source": [
    "#### ResNet performance on training set"
   ]
  },
  {
   "cell_type": "code",
   "execution_count": 54,
   "id": "d94ca8a7-b66a-4a46-8fd3-cb2b80e56295",
   "metadata": {
    "tags": []
   },
   "outputs": [
    {
     "name": "stdout",
     "output_type": "stream",
     "text": [
      "Accuracy of  ResNetModel(\n",
      "  (resblock1): ResBlock(\n",
      "    (convblock1): Sequential(\n",
      "      (0): Conv1d(1, 64, kernel_size=(7,), stride=(1,), padding=(3,))\n",
      "      (1): BatchNorm1d(64, eps=1e-05, momentum=0.1, affine=True, track_running_stats=True)\n",
      "      (2): ReLU()\n",
      "    )\n",
      "    (convblock2): Sequential(\n",
      "      (0): Conv1d(64, 64, kernel_size=(5,), stride=(1,), padding=(2,))\n",
      "      (1): BatchNorm1d(64, eps=1e-05, momentum=0.1, affine=True, track_running_stats=True)\n",
      "      (2): ReLU()\n",
      "    )\n",
      "    (convblock3): Sequential(\n",
      "      (0): Conv1d(64, 64, kernel_size=(3,), stride=(1,), padding=(1,))\n",
      "      (1): BatchNorm1d(64, eps=1e-05, momentum=0.1, affine=True, track_running_stats=True)\n",
      "      (2): ReLU()\n",
      "    )\n",
      "    (shortcut): Sequential(\n",
      "      (0): Conv1d(1, 64, kernel_size=(1,), stride=(1,))\n",
      "      (1): BatchNorm1d(64, eps=1e-05, momentum=0.1, affine=True, track_running_stats=True)\n",
      "    )\n",
      "    (act): ReLU()\n",
      "  )\n",
      "  (resblock2): ResBlock(\n",
      "    (convblock1): Sequential(\n",
      "      (0): Conv1d(64, 128, kernel_size=(7,), stride=(1,), padding=(3,))\n",
      "      (1): BatchNorm1d(128, eps=1e-05, momentum=0.1, affine=True, track_running_stats=True)\n",
      "      (2): ReLU()\n",
      "    )\n",
      "    (convblock2): Sequential(\n",
      "      (0): Conv1d(128, 128, kernel_size=(5,), stride=(1,), padding=(2,))\n",
      "      (1): BatchNorm1d(128, eps=1e-05, momentum=0.1, affine=True, track_running_stats=True)\n",
      "      (2): ReLU()\n",
      "    )\n",
      "    (convblock3): Sequential(\n",
      "      (0): Conv1d(128, 128, kernel_size=(3,), stride=(1,), padding=(1,))\n",
      "      (1): BatchNorm1d(128, eps=1e-05, momentum=0.1, affine=True, track_running_stats=True)\n",
      "      (2): ReLU()\n",
      "    )\n",
      "    (shortcut): Sequential(\n",
      "      (0): Conv1d(64, 128, kernel_size=(1,), stride=(1,))\n",
      "      (1): BatchNorm1d(128, eps=1e-05, momentum=0.1, affine=True, track_running_stats=True)\n",
      "    )\n",
      "    (act): ReLU()\n",
      "  )\n",
      "  (resblock3): ResBlock(\n",
      "    (convblock1): Sequential(\n",
      "      (0): Conv1d(128, 128, kernel_size=(7,), stride=(1,), padding=(3,))\n",
      "      (1): BatchNorm1d(128, eps=1e-05, momentum=0.1, affine=True, track_running_stats=True)\n",
      "      (2): ReLU()\n",
      "    )\n",
      "    (convblock2): Sequential(\n",
      "      (0): Conv1d(128, 128, kernel_size=(5,), stride=(1,), padding=(2,))\n",
      "      (1): BatchNorm1d(128, eps=1e-05, momentum=0.1, affine=True, track_running_stats=True)\n",
      "      (2): ReLU()\n",
      "    )\n",
      "    (convblock3): Sequential(\n",
      "      (0): Conv1d(128, 128, kernel_size=(3,), stride=(1,), padding=(1,))\n",
      "      (1): BatchNorm1d(128, eps=1e-05, momentum=0.1, affine=True, track_running_stats=True)\n",
      "      (2): ReLU()\n",
      "    )\n",
      "    (shortcut): Sequential()\n",
      "    (act): ReLU()\n",
      "  )\n",
      "  (gap): AdaptiveAvgPool1d(output_size=1)\n",
      "  (fc): Linear(in_features=128, out_features=3, bias=True)\n",
      "  (softmax): Softmax(dim=1)\n",
      ")  : 96.89 %\n",
      "Correct :  872 Total :  900\n"
     ]
    }
   ],
   "source": [
    "predictions, values = opt.evaluate(train_loader, batch_size=batch_size, n_features=seq_length)"
   ]
  },
  {
   "cell_type": "code",
   "execution_count": 55,
   "id": "5899d2c3-d144-4e01-8f41-cd7b6c50c88b",
   "metadata": {
    "tags": []
   },
   "outputs": [
    {
     "name": "stdout",
     "output_type": "stream",
     "text": [
      "              precision    recall  f1-score   support\n",
      "\n",
      "           0       1.00      0.80      0.89       138\n",
      "           1       1.00      1.00      1.00       248\n",
      "           2       0.95      1.00      0.97       514\n",
      "\n",
      "    accuracy                           0.97       900\n",
      "   macro avg       0.98      0.93      0.95       900\n",
      "weighted avg       0.97      0.97      0.97       900\n",
      "\n"
     ]
    },
    {
     "data": {
      "text/plain": [
       "array([[111,   0,  27],\n",
       "       [  0, 247,   1],\n",
       "       [  0,   0, 514]])"
      ]
     },
     "execution_count": 55,
     "metadata": {},
     "output_type": "execute_result"
    }
   ],
   "source": [
    "print(classification_report(np.concatenate(values).ravel(), np.concatenate(predictions).ravel()))\n",
    "confusion_matrix(np.concatenate(values).ravel(), np.concatenate(predictions).ravel())"
   ]
  },
  {
   "cell_type": "markdown",
   "id": "d95e5532-bf2b-4d14-b909-0480a23aaa4f",
   "metadata": {},
   "source": [
    "#### ResNet performance on testing set"
   ]
  },
  {
   "cell_type": "code",
   "execution_count": 56,
   "id": "9bf24f68-4c6a-4b76-8606-475950a4c4b8",
   "metadata": {},
   "outputs": [
    {
     "name": "stdout",
     "output_type": "stream",
     "text": [
      "Accuracy of  ResNetModel(\n",
      "  (resblock1): ResBlock(\n",
      "    (convblock1): Sequential(\n",
      "      (0): Conv1d(1, 64, kernel_size=(7,), stride=(1,), padding=(3,))\n",
      "      (1): BatchNorm1d(64, eps=1e-05, momentum=0.1, affine=True, track_running_stats=True)\n",
      "      (2): ReLU()\n",
      "    )\n",
      "    (convblock2): Sequential(\n",
      "      (0): Conv1d(64, 64, kernel_size=(5,), stride=(1,), padding=(2,))\n",
      "      (1): BatchNorm1d(64, eps=1e-05, momentum=0.1, affine=True, track_running_stats=True)\n",
      "      (2): ReLU()\n",
      "    )\n",
      "    (convblock3): Sequential(\n",
      "      (0): Conv1d(64, 64, kernel_size=(3,), stride=(1,), padding=(1,))\n",
      "      (1): BatchNorm1d(64, eps=1e-05, momentum=0.1, affine=True, track_running_stats=True)\n",
      "      (2): ReLU()\n",
      "    )\n",
      "    (shortcut): Sequential(\n",
      "      (0): Conv1d(1, 64, kernel_size=(1,), stride=(1,))\n",
      "      (1): BatchNorm1d(64, eps=1e-05, momentum=0.1, affine=True, track_running_stats=True)\n",
      "    )\n",
      "    (act): ReLU()\n",
      "  )\n",
      "  (resblock2): ResBlock(\n",
      "    (convblock1): Sequential(\n",
      "      (0): Conv1d(64, 128, kernel_size=(7,), stride=(1,), padding=(3,))\n",
      "      (1): BatchNorm1d(128, eps=1e-05, momentum=0.1, affine=True, track_running_stats=True)\n",
      "      (2): ReLU()\n",
      "    )\n",
      "    (convblock2): Sequential(\n",
      "      (0): Conv1d(128, 128, kernel_size=(5,), stride=(1,), padding=(2,))\n",
      "      (1): BatchNorm1d(128, eps=1e-05, momentum=0.1, affine=True, track_running_stats=True)\n",
      "      (2): ReLU()\n",
      "    )\n",
      "    (convblock3): Sequential(\n",
      "      (0): Conv1d(128, 128, kernel_size=(3,), stride=(1,), padding=(1,))\n",
      "      (1): BatchNorm1d(128, eps=1e-05, momentum=0.1, affine=True, track_running_stats=True)\n",
      "      (2): ReLU()\n",
      "    )\n",
      "    (shortcut): Sequential(\n",
      "      (0): Conv1d(64, 128, kernel_size=(1,), stride=(1,))\n",
      "      (1): BatchNorm1d(128, eps=1e-05, momentum=0.1, affine=True, track_running_stats=True)\n",
      "    )\n",
      "    (act): ReLU()\n",
      "  )\n",
      "  (resblock3): ResBlock(\n",
      "    (convblock1): Sequential(\n",
      "      (0): Conv1d(128, 128, kernel_size=(7,), stride=(1,), padding=(3,))\n",
      "      (1): BatchNorm1d(128, eps=1e-05, momentum=0.1, affine=True, track_running_stats=True)\n",
      "      (2): ReLU()\n",
      "    )\n",
      "    (convblock2): Sequential(\n",
      "      (0): Conv1d(128, 128, kernel_size=(5,), stride=(1,), padding=(2,))\n",
      "      (1): BatchNorm1d(128, eps=1e-05, momentum=0.1, affine=True, track_running_stats=True)\n",
      "      (2): ReLU()\n",
      "    )\n",
      "    (convblock3): Sequential(\n",
      "      (0): Conv1d(128, 128, kernel_size=(3,), stride=(1,), padding=(1,))\n",
      "      (1): BatchNorm1d(128, eps=1e-05, momentum=0.1, affine=True, track_running_stats=True)\n",
      "      (2): ReLU()\n",
      "    )\n",
      "    (shortcut): Sequential()\n",
      "    (act): ReLU()\n",
      "  )\n",
      "  (gap): AdaptiveAvgPool1d(output_size=1)\n",
      "  (fc): Linear(in_features=128, out_features=3, bias=True)\n",
      "  (softmax): Softmax(dim=1)\n",
      ")  : 96.50 %\n",
      "Correct :  7913 Total :  8200\n"
     ]
    }
   ],
   "source": [
    "predictions, values = opt.evaluate(test_loader, batch_size=batch_size, n_features=input_size)"
   ]
  },
  {
   "cell_type": "code",
   "execution_count": 57,
   "id": "e3ba2515-a9b5-40ed-966f-10b336ba53c1",
   "metadata": {
    "tags": []
   },
   "outputs": [
    {
     "name": "stdout",
     "output_type": "stream",
     "text": [
      "              precision    recall  f1-score   support\n",
      "\n",
      "           0       0.99      0.79      0.88      1172\n",
      "           1       1.00      0.99      0.99      2295\n",
      "           2       0.95      1.00      0.97      4733\n",
      "\n",
      "    accuracy                           0.96      8200\n",
      "   macro avg       0.98      0.92      0.95      8200\n",
      "weighted avg       0.97      0.96      0.96      8200\n",
      "\n"
     ]
    },
    {
     "data": {
      "text/plain": [
       "array([[ 921,    0,  251],\n",
       "       [   0, 2273,   22],\n",
       "       [  12,    2, 4719]])"
      ]
     },
     "execution_count": 57,
     "metadata": {},
     "output_type": "execute_result"
    }
   ],
   "source": [
    "print(classification_report(np.concatenate(values).ravel(), np.concatenate(predictions).ravel()))\n",
    "confusion_matrix(np.concatenate(values).ravel(), np.concatenate(predictions).ravel())"
   ]
  },
  {
   "cell_type": "markdown",
   "id": "0466984d",
   "metadata": {},
   "source": [
    "The performance of the ResNet is actually the best among the 4 models and almost in line with the measurements described in [2]. No big difference between the training and testing performance meaning that overfit did not really hit."
   ]
  },
  {
   "cell_type": "markdown",
   "id": "cf68650c",
   "metadata": {},
   "source": [
    "## Final considerations"
   ]
  },
  {
   "cell_type": "markdown",
   "id": "d90c6e9d",
   "metadata": {},
   "source": [
    "Below a summary of the accuracy results of the 4 models together with the number of trainable parameters that give an indication of the complexity of the model.\n",
    "\n",
    "| Model | Trainable params | Accuracy on testing set |\n",
    "| --- | --- | --- |\n",
    "| MLP | 764'503 | 86.4% |\n",
    "| LSTM | 67'459 | 80.7% |\n",
    "| CNN | 818'059 | 86.0% |\n",
    "| ResNet | 479'491 | 96.5% |"
   ]
  },
  {
   "cell_type": "markdown",
   "id": "30d6bf22",
   "metadata": {},
   "source": [
    "Single-layer LSTM is the simplest model in terms of number of trainable parameters and gives the lowest performance among the four. In the loss curve we see signs of underfitting. For this reason the training process should be adjusted and improved. In any case, we have verified that even increasing hidden size or the number of layers, the performance does not increase significantly. The reason why class 0 is not detected should be further investigated. Also the attention mechanism would be something interesting to implement and test. While a standard LSTM model uses the last hidden state to produce a prediction, implementing the attention mechanisms implies to use also intermediate states that could possibly improve the prediction. \n",
    "\n",
    "CNN and MLP are pretty much on par in terms of performance and complexity. Increasing the number of filters in CNN would improve significantly the performance. This reflects the CNN ability to mine and generate features automatically. By looking at the MLP loss curve it turns out that the validation set is not well representative of the validation process and should therefore be changed or increased. \n",
    "\n",
    "ResNet shows to be the best model for this type of task with excellent accuracy but also significant better ability to identify class 0 and separate it from class 2.\n",
    "\n",
    "Overall, while the hyper-parameters tuning process was set up as an example for the MLP case, it should actually be extended to the other cases. "
   ]
  },
  {
   "cell_type": "markdown",
   "id": "e9cf8f6e",
   "metadata": {},
   "source": [
    "## References"
   ]
  },
  {
   "cell_type": "markdown",
   "id": "dac6e801",
   "metadata": {},
   "source": [
    "[1] B. Zhao, H. Lu, S. Chen, J. Liu, and D. Wu, “Convolutional neural networks for time series classification,”\n",
    "Journal of Systems Engineering and Electronics, vol. 28, no. 1, pp. 162–169, 2017.\n",
    "\n",
    "[2] Z. Wang, W. Yan, and T. Oates, “Time series classification from scratch with deep neural networks:\n",
    "A strong baseline,” Proc. Int. Jt. Conf. Neural Networks, vol. 2017-May, pp. 1578–1585, 2017."
   ]
  }
 ],
 "metadata": {
  "kernelspec": {
   "display_name": "Python 3 (ipykernel)",
   "language": "python",
   "name": "python3"
  },
  "language_info": {
   "codemirror_mode": {
    "name": "ipython",
    "version": 3
   },
   "file_extension": ".py",
   "mimetype": "text/x-python",
   "name": "python",
   "nbconvert_exporter": "python",
   "pygments_lexer": "ipython3",
   "version": "3.9.7"
  },
  "toc-autonumbering": true,
  "toc-showtags": false
 },
 "nbformat": 4,
 "nbformat_minor": 5
}
